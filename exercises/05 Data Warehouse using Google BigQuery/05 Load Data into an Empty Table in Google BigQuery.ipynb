{
 "cells": [
  {
   "cell_type": "code",
   "execution_count": 110,
   "metadata": {},
   "outputs": [],
   "source": [
    "from google.cloud import bigquery\n",
    "import json\n",
    "import pathlib"
   ]
  },
  {
   "cell_type": "code",
   "execution_count": 3,
   "metadata": {},
   "outputs": [],
   "source": [
    "client = bigquery.Client()\n",
    "\n",
    "project_id = 'dataanalytics-347914'"
   ]
  },
  {
   "cell_type": "code",
   "execution_count": 136,
   "metadata": {},
   "outputs": [],
   "source": [
    "def get_table_schema(table: str) -> dict:\n",
    "\n",
    "    path = pathlib.Path('.')\n",
    "    path = path.cwd().parents[1]\n",
    "\n",
    "    schema = json.load(open(path/'data/retail_db/schemas.json'))[table]\n",
    "    schema = sorted(schema, key=lambda col: col['column_position'])\n",
    "\n",
    "    for i in schema:\n",
    "        if i['data_type'] == 'float':\n",
    "            i['data_type'] = 'DECIMAL'\n",
    "        else:\n",
    "            i['data_type']  = i['data_type'].upper()\n",
    "\n",
    "    # table_schema = dict([(i['column_name'], i['data_type'].upper()) for i in schema])\n",
    "\n",
    "    return schema\n"
   ]
  },
  {
   "attachments": {},
   "cell_type": "markdown",
   "metadata": {},
   "source": [
    "#### order_items"
   ]
  },
  {
   "cell_type": "code",
   "execution_count": 4,
   "metadata": {},
   "outputs": [
    {
     "name": "stdout",
     "output_type": "stream",
     "text": [
      "gs://airetail_mld/retail_db/order_items/part-00000\n"
     ]
    }
   ],
   "source": [
    "!gsutil ls gs://airetail_mld/retail_db/order_items"
   ]
  },
  {
   "cell_type": "code",
   "execution_count": 154,
   "metadata": {},
   "outputs": [],
   "source": [
    "for table in ['orders', 'order_items', 'products']:\n",
    "    table_id = f\"{project_id}.retail.{table}\"\n",
    "    \n",
    "    # get schema from json\n",
    "    schema_dict = get_table_schema(table)\n",
    "    bigquerySchema = [] \n",
    "    for col in schema_dict:\n",
    "        bigquerySchema.append(bigquery.SchemaField(col['column_name'], col['data_type']))\n",
    "\n",
    "    # define schema\n",
    "    job_config = bigquery.LoadJobConfig(\n",
    "        schema=bigquerySchema\n",
    "    )\n",
    "\n",
    "    uri = f\"gs://airetail_mld/retail_db/{table}/part-00000\"\n",
    "\n",
    "    # create job\n",
    "    load_job = client.load_table_from_uri(\n",
    "        uri, table_id, job_config=job_config\n",
    "    )  # Make an API request.\n",
    "\n",
    "    # execute job\n",
    "    load_job.result()  # Wait for the job to complete."
   ]
  },
  {
   "cell_type": "code",
   "execution_count": 155,
   "metadata": {},
   "outputs": [
    {
     "name": "stdout",
     "output_type": "stream",
     "text": [
      "Loaded 68883 rows to table dataanalytics-347914.retail.orders\n",
      "Loaded 172198 rows to table dataanalytics-347914.retail.order_items\n",
      "Loaded 1345 rows to table dataanalytics-347914.retail.products\n"
     ]
    }
   ],
   "source": [
    "for table in ['orders', 'order_items', 'products']:\n",
    "    \n",
    "    table_id = f\"{project_id}.retail.{table}\"\n",
    "\n",
    "    # gets reference to table object, but it only has its metadata\n",
    "    table = client.get_table(table_id)\n",
    "    print(\"Loaded {} rows to table {}\".format(table.num_rows, table_id))"
   ]
  }
 ],
 "metadata": {
  "kernelspec": {
   "display_name": "Python 3.9.13 ('deg-venv': venv)",
   "language": "python",
   "name": "python3"
  },
  "language_info": {
   "codemirror_mode": {
    "name": "ipython",
    "version": 3
   },
   "file_extension": ".py",
   "mimetype": "text/x-python",
   "name": "python",
   "nbconvert_exporter": "python",
   "pygments_lexer": "ipython3",
   "version": "3.9.16"
  },
  "orig_nbformat": 4,
  "vscode": {
   "interpreter": {
    "hash": "4a9d607f6995d470a72ac62c14cbba774ae3a8ede2bb7bb3a284130b245adccf"
   }
  }
 },
 "nbformat": 4,
 "nbformat_minor": 2
}
