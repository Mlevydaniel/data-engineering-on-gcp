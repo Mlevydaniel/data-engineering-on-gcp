{
 "cells": [
  {
   "attachments": {},
   "cell_type": "markdown",
   "metadata": {},
   "source": [
    "## Manage Dataproc Workflows using gcloud Commands\n",
    "Let us see how we can manage Dataproc Workflows using gcloud commands.\n",
    "* Step 1: Create Dataproc Workflow Template\n",
    "* Step 2: Configure active Dataproc cluster (we can also configure new cluster)\n",
    "* Step 3: Add Spark SQL or Pyspark Jobs to Dataproc Workflow Templates with Dependencies\n",
    "* Step 4: Run and Validate the Dataproc Workflow Template\n",
    "\n",
    "We can take care of all the steps using `gcloud` commands."
   ]
  },
  {
   "cell_type": "code",
   "execution_count": 1,
   "metadata": {},
   "outputs": [
    {
     "name": "stdout",
     "output_type": "stream",
     "text": [
      "Updated property [dataproc/region].\n",
      "\n",
      "\n",
      "Updates are available for some Google Cloud CLI components.  To install them,\n",
      "please run:\n",
      "  $ gcloud components update\n",
      "\n"
     ]
    }
   ],
   "source": [
    "!gcloud config set dataproc/region us-central1"
   ]
  },
  {
   "cell_type": "code",
   "execution_count": 2,
   "metadata": {},
   "outputs": [
    {
     "name": "stdout",
     "output_type": "stream",
     "text": [
      "\u001b[1;31mERROR:\u001b[0m (gcloud.dataproc.workflow-templates) Command name argument expected.\n",
      "\n",
      "\u001b[m\u001b[1mAvailable groups for gcloud dataproc workflow-templates:\u001b[m\n",
      "\n",
      "      add-job                 Add Dataproc jobs to workflow template.\n",
      "\n",
      "\u001b[m\u001b[1mAvailable commands for gcloud dataproc workflow-templates:\u001b[m\n",
      "\n",
      "      create                  Create a workflow template.\n",
      "      delete                  Delete a workflow template.\n",
      "      describe                Describe a workflow template.\n",
      "      export                  Export a workflow template.\n",
      "      get-iam-policy          Get IAM policy for a workflow template.\n",
      "      import                  Import a workflow template.\n",
      "      instantiate             Instantiate a workflow template.\n",
      "      instantiate-from-file   Instantiate a workflow template from a file.\n",
      "      list                    List workflow templates.\n",
      "      remove-dag-timeout      Remove DAG timeout from a workflow template.\n",
      "      remove-job              Remove a job from workflow template.\n",
      "      set-cluster-selector    Set cluster selector for the workflow template.\n",
      "      set-dag-timeout         Set DAG timeout on a workflow template.\n",
      "      set-iam-policy          Set IAM policy for a template.\n",
      "      set-managed-cluster     Set a managed cluster for the workflow template.\n",
      "\n",
      "\u001b[mFor detailed information on this command and its flags, run:\n",
      "  gcloud dataproc workflow-templates --help\n"
     ]
    }
   ],
   "source": [
    "!gcloud dataproc workflow-templates"
   ]
  },
  {
   "cell_type": "code",
   "execution_count": 3,
   "metadata": {},
   "outputs": [
    {
     "name": "stdout",
     "output_type": "stream",
     "text": [
      "ID               JOBS  UPDATE_TIME                  VERSION\n",
      "getting-started  4     2023-06-11T23:01:29.613712Z  1\n"
     ]
    }
   ],
   "source": [
    "!gcloud dataproc workflow-templates list"
   ]
  },
  {
   "attachments": {},
   "cell_type": "markdown",
   "metadata": {},
   "source": [
    "Here is the command to delete Dataproc Workflow Template (multiline approach doesn't work on Windows)\n",
    "\n",
    "```shell\n",
    "gcloud dataproc workflow-templates \\\n",
    "    delete wf-daily-product-revenue\n",
    "```"
   ]
  },
  {
   "cell_type": "code",
   "execution_count": null,
   "metadata": {},
   "outputs": [],
   "source": [
    "!gcloud dataproc workflow-templates delete wf-daily-product-revenue --quiet"
   ]
  },
  {
   "attachments": {},
   "cell_type": "markdown",
   "metadata": {},
   "source": [
    "Here is the command to create Dataproc Workflow.\n",
    "\n",
    "```shell\n",
    "gcloud dataproc workflow-templates \\\n",
    "    create wf-daily-product-revenue\n",
    "```"
   ]
  },
  {
   "cell_type": "code",
   "execution_count": 4,
   "metadata": {},
   "outputs": [
    {
     "name": "stdout",
     "output_type": "stream",
     "text": [
      "\u001b[1;31mERROR:\u001b[0m (gcloud.dataproc.workflow-templates.create) argument (TEMPLATE : --region=REGION): Must be specified.\n",
      "Usage: gcloud dataproc workflow-templates create (TEMPLATE : --region=REGION) [optional flags]\n",
      "  optional flags may be  --dag-timeout | --help | --labels | --region\n",
      "\n",
      "For detailed information on this command and its flags, run:\n",
      "  gcloud dataproc workflow-templates create --help\n"
     ]
    }
   ],
   "source": [
    "!gcloud dataproc workflow-templates create"
   ]
  },
  {
   "cell_type": "code",
   "execution_count": 5,
   "metadata": {},
   "outputs": [],
   "source": [
    "!gcloud dataproc workflow-templates create wf-daily-product-revenue"
   ]
  },
  {
   "cell_type": "code",
   "execution_count": 6,
   "metadata": {},
   "outputs": [
    {
     "name": "stdout",
     "output_type": "stream",
     "text": [
      "ID                        JOBS  UPDATE_TIME                  VERSION\n",
      "getting-started           4     2023-06-11T23:01:29.613712Z  1\n",
      "wf-daily-product-revenue  0     2023-06-12T00:08:35.526710Z  1\n"
     ]
    }
   ],
   "source": [
    "!gcloud dataproc workflow-templates list"
   ]
  },
  {
   "cell_type": "code",
   "execution_count": 7,
   "metadata": {},
   "outputs": [
    {
     "name": "stdout",
     "output_type": "stream",
     "text": [
      "\u001b[1;31mERROR:\u001b[0m (gcloud.dataproc.workflow-templates) Command name argument expected.\n",
      "\n",
      "\u001b[m\u001b[1mAvailable groups for gcloud dataproc workflow-templates:\u001b[m\n",
      "\n",
      "      add-job                 Add Dataproc jobs to workflow template.\n",
      "\n",
      "\u001b[m\u001b[1mAvailable commands for gcloud dataproc workflow-templates:\u001b[m\n",
      "\n",
      "      create                  Create a workflow template.\n",
      "      delete                  Delete a workflow template.\n",
      "      describe                Describe a workflow template.\n",
      "      export                  Export a workflow template.\n",
      "      get-iam-policy          Get IAM policy for a workflow template.\n",
      "      import                  Import a workflow template.\n",
      "      instantiate             Instantiate a workflow template.\n",
      "      instantiate-from-file   Instantiate a workflow template from a file.\n",
      "      list                    List workflow templates.\n",
      "      remove-dag-timeout      Remove DAG timeout from a workflow template.\n",
      "      remove-job              Remove a job from workflow template.\n",
      "      set-cluster-selector    Set cluster selector for the workflow template.\n",
      "      set-dag-timeout         Set DAG timeout on a workflow template.\n",
      "      set-iam-policy          Set IAM policy for a template.\n",
      "      set-managed-cluster     Set a managed cluster for the workflow template.\n",
      "\n",
      "\u001b[mFor detailed information on this command and its flags, run:\n",
      "  gcloud dataproc workflow-templates --help\n"
     ]
    }
   ],
   "source": [
    "!gcloud dataproc workflow-templates "
   ]
  },
  {
   "cell_type": "code",
   "execution_count": 8,
   "metadata": {},
   "outputs": [
    {
     "name": "stdout",
     "output_type": "stream",
     "text": [
      "\u001b[1;31mERROR:\u001b[0m (gcloud.dataproc.workflow-templates.set-cluster-selector) argument (TEMPLATE : --region=REGION): Must be specified.\n",
      "Usage: gcloud dataproc workflow-templates set-cluster-selector (TEMPLATE : --region=REGION) [optional flags]\n",
      "  optional flags may be  --cluster-labels | --help | --region\n",
      "\n",
      "For detailed information on this command and its flags, run:\n",
      "  gcloud dataproc workflow-templates set-cluster-selector --help\n"
     ]
    }
   ],
   "source": [
    "!gcloud dataproc workflow-templates set-cluster-selector"
   ]
  },
  {
   "attachments": {},
   "cell_type": "markdown",
   "metadata": {},
   "source": [
    "Here is the command to attach running or active Dataproc Cluster to the Dataproc Workflow. We need to specify the label for the cluster.\n",
    "\n",
    "```shell\n",
    "gcloud dataproc workflow-templates \\\n",
    "    set-cluster-selector \\\n",
    "    wf-daily-product-revenue \\\n",
    "    --cluster-labels goog-dataproc-cluster-name=aidataprocdev\n",
    "```"
   ]
  },
  {
   "cell_type": "code",
   "execution_count": 9,
   "metadata": {},
   "outputs": [],
   "source": [
    "!gcloud dataproc workflow-templates set-cluster-selector wf-daily-product-revenue \\\n",
    "     --cluster-labels goog-dataproc-cluster-name='cluster-256f'"
   ]
  },
  {
   "cell_type": "code",
   "execution_count": null,
   "metadata": {},
   "outputs": [],
   "source": [
    "!gcloud dataproc workflow-templates add-job"
   ]
  },
  {
   "cell_type": "code",
   "execution_count": null,
   "metadata": {},
   "outputs": [],
   "source": [
    "!gcloud dataproc workflow-templates add-job spark-sql"
   ]
  },
  {
   "attachments": {},
   "cell_type": "markdown",
   "metadata": {},
   "source": [
    "* The command `gcloud dataproc workflow-templates add-job` is similar to `gcloud dataproc jobs submit`. Here are the examples for submitting jobs using `gcloud dataproc jobs submit`.\n",
    "\n",
    "```shell\n",
    "# Without parameters\n",
    "gcloud dataproc jobs submit \\\n",
    "    spark-sql --cluster=aidataprocdev \\\n",
    "    -f gs://airetail/scripts/daily_product_revenue/cleanup.sql\n",
    "\n",
    "# With parameters\n",
    "gcloud dataproc jobs submit \\\n",
    "    spark-sql --cluster=aidataprocdev \\\n",
    "    -f gs://airetail/scripts/daily_product_revenue/file_format_converter.sql \\\n",
    "    --params=bucket_name=gs://airetail,table_name=orders\n",
    "```\n"
   ]
  },
  {
   "attachments": {},
   "cell_type": "markdown",
   "metadata": {},
   "source": [
    "Here are the commands to add Spark SQL Jobs to the Dataproc Workflow.\n",
    "\n",
    "```shell\n",
    "gcloud dataproc workflow-templates add-job spark-sql \\\n",
    "    --step-id=job-cleanup \\\n",
    "    --file=gs://airetail/scripts/daily_product_revenue/cleanup.sql \\\n",
    "    --workflow-template=wf-daily-product-revenue\n",
    "\n",
    "# File Format Converter jobs with dependency on cleanup\n",
    "gcloud dataproc workflow-templates add-job spark-sql \\\n",
    "    --step-id=job-convert-orders \\\n",
    "    --file=gs://airetail/scripts/daily_product_revenue/file_format_converter.sql \\\n",
    "    --params=bucket_name=gs://airetail,table_name=orders \\\n",
    "    --workflow-template=wf-daily-product-revenue \\\n",
    "    --start-after=job-cleanup\n",
    "\n",
    "gcloud dataproc workflow-templates add-job spark-sql \\\n",
    "    --step-id=job-convert-order-items \\\n",
    "    --file=gs://airetail/scripts/daily_product_revenue/file_format_converter.sql \\\n",
    "    --params=bucket_name=gs://airetail,table_name=order_items \\\n",
    "    --workflow-template=wf-daily-product-revenue \\\n",
    "    --start-after=job-cleanup\n",
    "\n",
    "# Last Job which depends on convert orders and order_items jobs\n",
    "gcloud dataproc workflow-templates add-job spark-sql \\\n",
    "    --step-id=job-daily-product-revenue \\\n",
    "    --file=gs://airetail/scripts/daily_product_revenue/compute_daily_product_revenue.sql \\\n",
    "    --params=bucket_name=gs://airetail \\\n",
    "    --workflow-template=wf-daily-product-revenue \\\n",
    "    --start-after=job-convert-orders,job-convert-order-items\n",
    "```"
   ]
  },
  {
   "cell_type": "code",
   "execution_count": 10,
   "metadata": {},
   "outputs": [
    {
     "name": "stdout",
     "output_type": "stream",
     "text": [
      "createTime: '2023-06-12T00:08:35.526710Z'\n",
      "id: wf-daily-product-revenue\n",
      "jobs:\n",
      "- sparkSqlJob:\n",
      "    queryFileUri: gs://airetail_mld/scripts/daily_product_revenue/cleanup.sql\n",
      "  stepId: job-cleanup\n",
      "name: projects/dataanalytics-347914/regions/us-central1/workflowTemplates/wf-daily-product-revenue\n",
      "placement:\n",
      "  clusterSelector:\n",
      "    clusterLabels:\n",
      "      goog-dataproc-cluster-name: cluster-256f\n",
      "updateTime: '2023-06-12T00:11:59.876747Z'\n",
      "version: 3\n"
     ]
    }
   ],
   "source": [
    "!gcloud dataproc workflow-templates add-job spark-sql --step-id=job-cleanup \\\n",
    "     --file=gs://airetail_mld/scripts/daily_product_revenue/cleanup.sql \\ \n",
    "     --workflow-template=wf-daily-product-revenue"
   ]
  },
  {
   "cell_type": "code",
   "execution_count": 17,
   "metadata": {},
   "outputs": [
    {
     "name": "stdout",
     "output_type": "stream",
     "text": [
      "createTime: '2023-06-12T00:08:35.526710Z'\n",
      "id: wf-daily-product-revenue\n",
      "jobs:\n",
      "- sparkSqlJob:\n",
      "    queryFileUri: gs://airetail_mld/scripts/daily_product_revenue/cleanup.sql\n",
      "  stepId: job-cleanup\n",
      "- prerequisiteStepIds:\n",
      "  - job-cleanup\n",
      "  sparkSqlJob:\n",
      "    queryFileUri: gs://airetail_mld/scripts/daily_product_revenue/file_format_converter.sql\n",
      "    scriptVariables:\n",
      "      bucket_name: gs://airetail_mld\n",
      "      table_name: order_items\n",
      "  stepId: job-convert-order-items\n",
      "- prerequisiteStepIds:\n",
      "  - job-cleanup\n",
      "  sparkSqlJob:\n",
      "    queryFileUri: gs://airetail_mld/scripts/daily_product_revenue/file_format_converter.sql\n",
      "    scriptVariables:\n",
      "      bucket_name: gs://airetail_mld\n",
      "      table_name: orders\n",
      "  stepId: job-convert-orders\n",
      "name: projects/dataanalytics-347914/regions/us-central1/workflowTemplates/wf-daily-product-revenue\n",
      "placement:\n",
      "  clusterSelector:\n",
      "    clusterLabels:\n",
      "      goog-dataproc-cluster-name: cluster-256f\n",
      "updateTime: '2023-06-12T00:16:08.723102Z'\n",
      "version: 5\n"
     ]
    }
   ],
   "source": [
    "\n",
    "!gcloud dataproc workflow-templates add-job spark-sql --step-id=job-convert-orders \\\n",
    "     --file=gs://airetail_mld/scripts/daily_product_revenue/file_format_converter.sql \\\n",
    "     --params=bucket_name=gs://airetail_mld,table_name=orders \\\n",
    "     --workflow-template=wf-daily-product-revenue \\\n",
    "     --start-after=job-cleanup"
   ]
  },
  {
   "cell_type": "code",
   "execution_count": 15,
   "metadata": {},
   "outputs": [
    {
     "name": "stdout",
     "output_type": "stream",
     "text": [
      "createTime: '2023-06-12T00:08:35.526710Z'\n",
      "id: wf-daily-product-revenue\n",
      "jobs:\n",
      "- sparkSqlJob:\n",
      "    queryFileUri: gs://airetail_mld/scripts/daily_product_revenue/cleanup.sql\n",
      "  stepId: job-cleanup\n",
      "- prerequisiteStepIds:\n",
      "  - job-cleanup\n",
      "  sparkSqlJob:\n",
      "    queryFileUri: gs://airetail_mld/scripts/daily_product_revenue/file_format_converter.sql\n",
      "    scriptVariables:\n",
      "      bucket_name: gs://airetail_mld\n",
      "      table_name: order_items\n",
      "  stepId: job-convert-order-items\n",
      "name: projects/dataanalytics-347914/regions/us-central1/workflowTemplates/wf-daily-product-revenue\n",
      "placement:\n",
      "  clusterSelector:\n",
      "    clusterLabels:\n",
      "      goog-dataproc-cluster-name: cluster-256f\n",
      "updateTime: '2023-06-12T00:15:51.731392Z'\n",
      "version: 4\n"
     ]
    }
   ],
   "source": [
    "!gcloud dataproc workflow-templates add-job spark-sql --step-id=job-convert-order-items \\\n",
    "    --file=gs://airetail_mld/scripts/daily_product_revenue/file_format_converter.sql \\\n",
    "    --params=bucket_name=gs://airetail_mld,table_name=order_items \\\n",
    "    --workflow-template=wf-daily-product-revenue --start-after=job-cleanup"
   ]
  },
  {
   "cell_type": "code",
   "execution_count": 18,
   "metadata": {},
   "outputs": [
    {
     "name": "stdout",
     "output_type": "stream",
     "text": [
      "createTime: '2023-06-12T00:08:35.526710Z'\n",
      "id: wf-daily-product-revenue\n",
      "jobs:\n",
      "- sparkSqlJob:\n",
      "    queryFileUri: gs://airetail_mld/scripts/daily_product_revenue/cleanup.sql\n",
      "  stepId: job-cleanup\n",
      "- prerequisiteStepIds:\n",
      "  - job-cleanup\n",
      "  sparkSqlJob:\n",
      "    queryFileUri: gs://airetail_mld/scripts/daily_product_revenue/file_format_converter.sql\n",
      "    scriptVariables:\n",
      "      bucket_name: gs://airetail_mld\n",
      "      table_name: order_items\n",
      "  stepId: job-convert-order-items\n",
      "- prerequisiteStepIds:\n",
      "  - job-cleanup\n",
      "  sparkSqlJob:\n",
      "    queryFileUri: gs://airetail_mld/scripts/daily_product_revenue/file_format_converter.sql\n",
      "    scriptVariables:\n",
      "      bucket_name: gs://airetail_mld\n",
      "      table_name: orders\n",
      "  stepId: job-convert-orders\n",
      "- prerequisiteStepIds:\n",
      "  - job-convert-orders\n",
      "  - job-convert-order-items\n",
      "  sparkSqlJob:\n",
      "    queryFileUri: gs://airetail_mld/scripts/daily_product_revenue/compute_daily_product_revenue.sql\n",
      "    scriptVariables:\n",
      "      bucket_name: gs://airetail_mld\n",
      "  stepId: job-daily-product-revenue\n",
      "name: projects/dataanalytics-347914/regions/us-central1/workflowTemplates/wf-daily-product-revenue\n",
      "placement:\n",
      "  clusterSelector:\n",
      "    clusterLabels:\n",
      "      goog-dataproc-cluster-name: cluster-256f\n",
      "updateTime: '2023-06-12T00:18:39.027622Z'\n",
      "version: 6\n"
     ]
    }
   ],
   "source": [
    "!gcloud dataproc workflow-templates add-job spark-sql \\\n",
    "    --step-id=job-daily-product-revenue \\\n",
    "    --file=gs://airetail_mld/scripts/daily_product_revenue/compute_daily_product_revenue.sql \\\n",
    "    --params=bucket_name=gs://airetail_mld \\\n",
    "    --workflow-template=wf-daily-product-revenue \\\n",
    "    --start-after=job-convert-orders,job-convert-order-items"
   ]
  },
  {
   "cell_type": "code",
   "execution_count": 19,
   "metadata": {},
   "outputs": [
    {
     "name": "stdout",
     "output_type": "stream",
     "text": [
      "ID                        JOBS  UPDATE_TIME                  VERSION\n",
      "getting-started           4     2023-06-11T23:01:29.613712Z  1\n",
      "wf-daily-product-revenue  4     2023-06-12T00:18:39.027622Z  6\n"
     ]
    }
   ],
   "source": [
    "!gcloud dataproc workflow-templates list"
   ]
  },
  {
   "cell_type": "code",
   "execution_count": 20,
   "metadata": {},
   "outputs": [
    {
     "name": "stdout",
     "output_type": "stream",
     "text": [
      "createTime: '2023-06-12T00:08:35.526710Z'\n",
      "id: wf-daily-product-revenue\n",
      "jobs:\n",
      "- sparkSqlJob:\n",
      "    queryFileUri: gs://airetail_mld/scripts/daily_product_revenue/cleanup.sql\n",
      "  stepId: job-cleanup\n",
      "- prerequisiteStepIds:\n",
      "  - job-cleanup\n",
      "  sparkSqlJob:\n",
      "    queryFileUri: gs://airetail_mld/scripts/daily_product_revenue/file_format_converter.sql\n",
      "    scriptVariables:\n",
      "      bucket_name: gs://airetail_mld\n",
      "      table_name: order_items\n",
      "  stepId: job-convert-order-items\n",
      "- prerequisiteStepIds:\n",
      "  - job-cleanup\n",
      "  sparkSqlJob:\n",
      "    queryFileUri: gs://airetail_mld/scripts/daily_product_revenue/file_format_converter.sql\n",
      "    scriptVariables:\n",
      "      bucket_name: gs://airetail_mld\n",
      "      table_name: orders\n",
      "  stepId: job-convert-orders\n",
      "- prerequisiteStepIds:\n",
      "  - job-convert-orders\n",
      "  - job-convert-order-items\n",
      "  sparkSqlJob:\n",
      "    queryFileUri: gs://airetail_mld/scripts/daily_product_revenue/compute_daily_product_revenue.sql\n",
      "    scriptVariables:\n",
      "      bucket_name: gs://airetail_mld\n",
      "  stepId: job-daily-product-revenue\n",
      "name: projects/dataanalytics-347914/regions/us-central1/workflowTemplates/wf-daily-product-revenue\n",
      "placement:\n",
      "  clusterSelector:\n",
      "    clusterLabels:\n",
      "      goog-dataproc-cluster-name: cluster-256f\n",
      "updateTime: '2023-06-12T00:18:39.027622Z'\n",
      "version: 6\n"
     ]
    }
   ],
   "source": [
    "!gcloud dataproc workflow-templates describe wf-daily-product-revenue"
   ]
  },
  {
   "attachments": {},
   "cell_type": "markdown",
   "metadata": {},
   "source": [
    "Here is the command to instantiate or run Dataproc Workflow.\n",
    "\n",
    "```shell\n",
    "gcloud dataproc workflow-templates \\\n",
    "    instantiate wf-daily-product-revenue\n",
    "```"
   ]
  },
  {
   "cell_type": "code",
   "execution_count": 21,
   "metadata": {},
   "outputs": [
    {
     "name": "stdout",
     "output_type": "stream",
     "text": [
      "\u001b[1;31mERROR:\u001b[0m (gcloud.dataproc.workflow-templates) Command name argument expected.\n",
      "\n",
      "\u001b[m\u001b[1mAvailable groups for gcloud dataproc workflow-templates:\u001b[m\n",
      "\n",
      "      add-job                 Add Dataproc jobs to workflow template.\n",
      "\n",
      "\u001b[m\u001b[1mAvailable commands for gcloud dataproc workflow-templates:\u001b[m\n",
      "\n",
      "      create                  Create a workflow template.\n",
      "      delete                  Delete a workflow template.\n",
      "      describe                Describe a workflow template.\n",
      "      export                  Export a workflow template.\n",
      "      get-iam-policy          Get IAM policy for a workflow template.\n",
      "      import                  Import a workflow template.\n",
      "      instantiate             Instantiate a workflow template.\n",
      "      instantiate-from-file   Instantiate a workflow template from a file.\n",
      "      list                    List workflow templates.\n",
      "      remove-dag-timeout      Remove DAG timeout from a workflow template.\n",
      "      remove-job              Remove a job from workflow template.\n",
      "      set-cluster-selector    Set cluster selector for the workflow template.\n",
      "      set-dag-timeout         Set DAG timeout on a workflow template.\n",
      "      set-iam-policy          Set IAM policy for a template.\n",
      "      set-managed-cluster     Set a managed cluster for the workflow template.\n",
      "\n",
      "\u001b[mFor detailed information on this command and its flags, run:\n",
      "  gcloud dataproc workflow-templates --help\n"
     ]
    }
   ],
   "source": [
    "!gcloud dataproc workflow-templates"
   ]
  },
  {
   "cell_type": "code",
   "execution_count": 22,
   "metadata": {},
   "outputs": [
    {
     "name": "stdout",
     "output_type": "stream",
     "text": [
      "\u001b[1;31mERROR:\u001b[0m (gcloud.dataproc.workflow-templates.instantiate) argument (TEMPLATE : --region=REGION): Must be specified.\n",
      "Usage: gcloud dataproc workflow-templates instantiate (TEMPLATE : --region=REGION) [optional flags]\n",
      "  optional flags may be  --async | --help | --parameters | --region\n",
      "\n",
      "For detailed information on this command and its flags, run:\n",
      "  gcloud dataproc workflow-templates instantiate --help\n"
     ]
    }
   ],
   "source": [
    "!gcloud dataproc workflow-templates instantiate"
   ]
  },
  {
   "cell_type": "code",
   "execution_count": 23,
   "metadata": {},
   "outputs": [
    {
     "name": "stdout",
     "output_type": "stream",
     "text": [
      "\u001b[1;31mERROR:\u001b[0m (gcloud.dataproc.workflow-templates.instantiate-from-file) argument --file: Must be specified.\n",
      "Usage: gcloud dataproc workflow-templates instantiate-from-file --file=FILE [optional flags]\n",
      "  optional flags may be  --async | --help | --region\n",
      "\n",
      "For detailed information on this command and its flags, run:\n",
      "  gcloud dataproc workflow-templates instantiate-from-file --help\n"
     ]
    }
   ],
   "source": [
    "!gcloud dataproc workflow-templates instantiate-from-file"
   ]
  },
  {
   "cell_type": "code",
   "execution_count": 24,
   "metadata": {},
   "outputs": [
    {
     "name": "stdout",
     "output_type": "stream",
     "text": [
      "\u001b[m\u001b[1mNAME\u001b[m\n",
      "    gcloud dataproc workflow-templates instantiate-from-file - instantiate a\n",
      "        workflow template from a file\n",
      "\n",
      "\u001b[m\u001b[1mSYNOPSIS\u001b[m\n",
      "    \u001b[1mgcloud dataproc workflow-templates instantiate-from-file\u001b[m \u001b[1m--file\u001b[m=\u001b[4mFILE\u001b[m\n",
      "        [\u001b[1m--async\u001b[m] [\u001b[1m--region\u001b[m=\u001b[4mREGION\u001b[m] [\u001b[4mGCLOUD_WIDE_FLAG ...\u001b[m]\n",
      "\n",
      "\u001b[m\u001b[1mDESCRIPTION\u001b[m\n",
      "    Instantiate a workflow template from a file.\n",
      "\n",
      "\u001b[m\u001b[1mEXAMPLES\u001b[m\n",
      "    To instantiate a workflow template from a yaml file 'template.yaml' in\n",
      "    region 'us-central1', run:\n",
      "\n",
      "        $ gcloud dataproc workflow-templates instantiate-from-file \\\n",
      "            --file=template.yaml --region=us-central1\n",
      "\n",
      "\u001b[m\u001b[1mREQUIRED FLAGS\u001b[m\n",
      "     \u001b[1m--file\u001b[m=\u001b[4mFILE\u001b[m\n",
      "        The YAML file containing the workflow template to run\n",
      "\n",
      "\u001b[m\u001b[1mOPTIONAL FLAGS\u001b[m\n",
      "     \u001b[1m--async\u001b[m\n",
      "        Return immediately, without waiting for the operation in progress to\n",
      "        complete.\n",
      "\n",
      "     \u001b[1m--region\u001b[m=\u001b[4mREGION\u001b[m\n",
      "        Dataproc region to use. Each Dataproc region constitutes an independent\n",
      "        resource namespace constrained to deploying instances into Compute\n",
      "        Engine zones inside the region. Overrides the default \u001b[1mdataproc/region\u001b[m\n",
      "        property value for this command invocation.\n",
      "\n",
      "\u001b[m\u001b[1mGCLOUD WIDE FLAGS\u001b[m\n",
      "    These flags are available to all commands: --access-token-file, --account,\n",
      "    --billing-project, --configuration, --flags-file, --flatten, --format,\n",
      "    --help, --impersonate-service-account, --log-http, --project, --quiet,\n",
      "    --trace-token, --user-output-enabled, --verbosity.\n",
      "\n",
      "    Run \u001b[1m$ gcloud help\u001b[m for details.\n",
      "\u001b[m"
     ]
    }
   ],
   "source": [
    "!gcloud dataproc workflow-templates instantiate-from-file --help"
   ]
  },
  {
   "cell_type": "code",
   "execution_count": 25,
   "metadata": {},
   "outputs": [
    {
     "name": "stdout",
     "output_type": "stream",
     "text": [
      "\u001b[1;31mERROR:\u001b[0m (gcloud.dataproc.workflow-templates.export) argument (TEMPLATE : --region=REGION): Must be specified.\n",
      "Usage: gcloud dataproc workflow-templates export (TEMPLATE : --region=REGION) [optional flags]\n",
      "  optional flags may be  --destination | --help | --region | --version\n",
      "\n",
      "For detailed information on this command and its flags, run:\n",
      "  gcloud dataproc workflow-templates export --help\n"
     ]
    }
   ],
   "source": [
    "!gcloud dataproc workflow-templates export"
   ]
  },
  {
   "cell_type": "code",
   "execution_count": 26,
   "metadata": {},
   "outputs": [
    {
     "name": "stdout",
     "output_type": "stream",
     "text": [
      "jobs:\n",
      "- sparkSqlJob:\n",
      "    queryFileUri: gs://airetail_mld/scripts/daily_product_revenue/cleanup.sql\n",
      "  stepId: job-cleanup\n",
      "- prerequisiteStepIds:\n",
      "  - job-cleanup\n",
      "  sparkSqlJob:\n",
      "    queryFileUri: gs://airetail_mld/scripts/daily_product_revenue/file_format_converter.sql\n",
      "    scriptVariables:\n",
      "      bucket_name: gs://airetail_mld\n",
      "      table_name: order_items\n",
      "  stepId: job-convert-order-items\n",
      "- prerequisiteStepIds:\n",
      "  - job-cleanup\n",
      "  sparkSqlJob:\n",
      "    queryFileUri: gs://airetail_mld/scripts/daily_product_revenue/file_format_converter.sql\n",
      "    scriptVariables:\n",
      "      bucket_name: gs://airetail_mld\n",
      "      table_name: orders\n",
      "  stepId: job-convert-orders\n",
      "- prerequisiteStepIds:\n",
      "  - job-convert-orders\n",
      "  - job-convert-order-items\n",
      "  sparkSqlJob:\n",
      "    queryFileUri: gs://airetail_mld/scripts/daily_product_revenue/compute_daily_product_revenue.sql\n",
      "    scriptVariables:\n",
      "      bucket_name: gs://airetail_mld\n",
      "  stepId: job-daily-product-revenue\n",
      "placement:\n",
      "  clusterSelector:\n",
      "    clusterLabels:\n",
      "      goog-dataproc-cluster-name: cluster-256f\n"
     ]
    }
   ],
   "source": [
    "!gcloud dataproc workflow-templates export wf-daily-product-revenue"
   ]
  },
  {
   "cell_type": "code",
   "execution_count": null,
   "metadata": {},
   "outputs": [],
   "source": [
    "# This will take some time to run\n",
    "!gcloud dataproc workflow-templates instantiate wf-daily-product-revenue"
   ]
  }
 ],
 "metadata": {
  "kernelspec": {
   "display_name": "Python 3.7.3 64-bit",
   "language": "python",
   "name": "python3"
  },
  "language_info": {
   "codemirror_mode": {
    "name": "ipython",
    "version": 3
   },
   "file_extension": ".py",
   "mimetype": "text/x-python",
   "name": "python",
   "nbconvert_exporter": "python",
   "pygments_lexer": "ipython3",
   "version": "3.9.16"
  },
  "orig_nbformat": 4,
  "vscode": {
   "interpreter": {
    "hash": "31f2aee4e71d21fbe5cf8b01ff0e069b9275f58929596ceb00d14d90e3e16cd6"
   }
  }
 },
 "nbformat": 4,
 "nbformat_minor": 2
}
