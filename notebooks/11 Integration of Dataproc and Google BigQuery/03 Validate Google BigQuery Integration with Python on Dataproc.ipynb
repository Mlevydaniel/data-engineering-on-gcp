{
 "cells": [
  {
   "cell_type": "code",
   "execution_count": 1,
   "metadata": {},
   "outputs": [],
   "source": [
    "from google.cloud import bigquery"
   ]
  },
  {
   "cell_type": "code",
   "execution_count": 2,
   "metadata": {},
   "outputs": [],
   "source": [
    "\n",
    "client = bigquery.Client()"
   ]
  },
  {
   "cell_type": "code",
   "execution_count": 3,
   "metadata": {},
   "outputs": [],
   "source": [
    "QUERY = (\n",
    "    'SELECT * FROM `dataanalytics-347914.retail.orders` '\n",
    "    'LIMIT 10'\n",
    ")"
   ]
  },
  {
   "cell_type": "code",
   "execution_count": 4,
   "metadata": {},
   "outputs": [],
   "source": [
    "query_job = client.query(QUERY)"
   ]
  },
  {
   "cell_type": "code",
   "execution_count": 5,
   "metadata": {},
   "outputs": [
    {
     "data": {
      "text/plain": [
       "google.cloud.bigquery.job.query.QueryJob"
      ]
     },
     "execution_count": 5,
     "metadata": {},
     "output_type": "execute_result"
    }
   ],
   "source": [
    "type(query_job)"
   ]
  },
  {
   "cell_type": "code",
   "execution_count": 6,
   "metadata": {},
   "outputs": [],
   "source": [
    "rows = query_job.result()"
   ]
  },
  {
   "cell_type": "code",
   "execution_count": 7,
   "metadata": {},
   "outputs": [
    {
     "name": "stdout",
     "output_type": "stream",
     "text": [
      "(42834, datetime.datetime(2014, 4, 16, 0, 0, tzinfo=<UTC>), 4321, 'CLOSED')\n",
      "(42851, datetime.datetime(2014, 4, 16, 0, 0, tzinfo=<UTC>), 5972, 'CLOSED')\n",
      "(42864, datetime.datetime(2014, 4, 16, 0, 0, tzinfo=<UTC>), 6024, 'CLOSED')\n",
      "(42888, datetime.datetime(2014, 4, 16, 0, 0, tzinfo=<UTC>), 3712, 'CLOSED')\n",
      "(42890, datetime.datetime(2014, 4, 16, 0, 0, tzinfo=<UTC>), 1961, 'CLOSED')\n",
      "(42896, datetime.datetime(2014, 4, 16, 0, 0, tzinfo=<UTC>), 7705, 'CLOSED')\n",
      "(42898, datetime.datetime(2014, 4, 16, 0, 0, tzinfo=<UTC>), 7770, 'CLOSED')\n",
      "(42899, datetime.datetime(2014, 4, 16, 0, 0, tzinfo=<UTC>), 3119, 'CLOSED')\n",
      "(42906, datetime.datetime(2014, 4, 16, 0, 0, tzinfo=<UTC>), 6215, 'CLOSED')\n",
      "(42913, datetime.datetime(2014, 4, 16, 0, 0, tzinfo=<UTC>), 10692, 'CLOSED')\n"
     ]
    }
   ],
   "source": [
    "\n",
    "for row in rows:\n",
    "    print(row.values())"
   ]
  }
 ],
 "metadata": {
  "kernelspec": {
   "display_name": "Python 3.8.13 ('base')",
   "language": "python",
   "name": "python3"
  },
  "language_info": {
   "codemirror_mode": {
    "name": "ipython",
    "version": 3
   },
   "file_extension": ".py",
   "mimetype": "text/x-python",
   "name": "python",
   "nbconvert_exporter": "python",
   "pygments_lexer": "ipython3",
   "version": "3.8.15"
  },
  "orig_nbformat": 4,
  "vscode": {
   "interpreter": {
    "hash": "e234d837eebba94c7397b4e38c0b82bd3e4741cb2c390182a3fb441eaf8f3cd5"
   }
  }
 },
 "nbformat": 4,
 "nbformat_minor": 2
}
