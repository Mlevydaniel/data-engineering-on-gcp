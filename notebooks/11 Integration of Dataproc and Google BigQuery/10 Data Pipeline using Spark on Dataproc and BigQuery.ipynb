{
 "cells": [
  {
   "cell_type": "markdown",
   "metadata": {},
   "source": [
    "## Data Pipeline using Spark and BigQuery on Dataproc\n",
    "Let us see how we can manage Dataproc Workflows using gcloud commands.\n",
    "* Step 1: Create Dataproc Workflow Template\n",
    "* Step 2: Configure active Dataproc cluster (we can also configure new cluster)\n",
    "* Step 3: Add Spark SQL or Pyspark Jobs to Dataproc Workflow Templates with Dependencies\n",
    "* Step 4: Run and Validate the Dataproc Workflow Template\n",
    "\n",
    "We can take care of all the steps using `gcloud` commands."
   ]
  },
  {
   "cell_type": "code",
   "execution_count": 30,
   "metadata": {},
   "outputs": [
    {
     "name": "stdout",
     "output_type": "stream",
     "text": [
      "\n",
      "\n",
      "Updates are available for some Google Cloud CLI components.  To install them,\n",
      "please run:\n",
      "  $ gcloud components update\n",
      "\n",
      "gs://airetail_mld/scripts/:\n",
      "\n",
      "gs://airetail_mld/scripts/daily_product_revenue/:\n",
      "gs://airetail_mld/scripts/daily_product_revenue/cleanup.sql\n",
      "gs://airetail_mld/scripts/daily_product_revenue/compute_daily_product_revenue.sql\n",
      "gs://airetail_mld/scripts/daily_product_revenue/file_format_converter.sql\n",
      "gs://airetail_mld/scripts/daily_product_revenue/unittest.sql\n"
     ]
    }
   ],
   "source": [
    "!gsutil ls -r gs://airetail_mld/scripts"
   ]
  },
  {
   "cell_type": "code",
   "execution_count": 31,
   "metadata": {},
   "outputs": [
    {
     "name": "stdout",
     "output_type": "stream",
     "text": [
      "Copying file://../../apps/daily_product_revenue_bq/app.py [Content-Type=text/x-python]...\n",
      "/ [1 files][  584.0 B/  584.0 B]                                                \n",
      "Operation completed over 1 objects/584.0 B.                                      \n"
     ]
    }
   ],
   "source": [
    "!gsutil cp -r ../../apps/daily_product_revenue_bq gs://airetail_mld/apps"
   ]
  },
  {
   "cell_type": "code",
   "execution_count": 32,
   "metadata": {},
   "outputs": [
    {
     "name": "stdout",
     "output_type": "stream",
     "text": [
      "gs://airetail_mld/apps/:\n",
      "\n",
      "gs://airetail_mld/apps/daily_product_revenue_bq/:\n",
      "gs://airetail_mld/apps/daily_product_revenue_bq/app.py\n"
     ]
    }
   ],
   "source": [
    "!gsutil ls -r gs://airetail_mld/apps/"
   ]
  },
  {
   "cell_type": "code",
   "execution_count": 33,
   "metadata": {},
   "outputs": [
    {
     "name": "stdout",
     "output_type": "stream",
     "text": [
      "Updated property [dataproc/region].\n"
     ]
    }
   ],
   "source": [
    "!gcloud config set dataproc/region us-central1"
   ]
  },
  {
   "cell_type": "code",
   "execution_count": 34,
   "metadata": {},
   "outputs": [
    {
     "name": "stdout",
     "output_type": "stream",
     "text": [
      "ID                           JOBS  UPDATE_TIME                  VERSION\n",
      "getting-started              4     2023-06-11T23:01:29.613712Z  1\n",
      "wf-daily-product-revenue     4     2023-06-12T00:18:39.027622Z  6\n",
      "wf-daily-product-revenue-bq  5     2023-07-24T00:37:03.015491Z  9\n"
     ]
    }
   ],
   "source": [
    "!gcloud dataproc workflow-templates list"
   ]
  },
  {
   "cell_type": "markdown",
   "metadata": {},
   "source": [
    "Here is the command to delete Dataproc Workflow Template (multiline approach doesn't work on Windows)\n",
    "\n",
    "```shell\n",
    "gcloud dataproc workflow-templates \\\n",
    "    delete wf-daily-product-revenue-bq\n",
    "```"
   ]
  },
  {
   "cell_type": "code",
   "execution_count": 35,
   "metadata": {},
   "outputs": [],
   "source": [
    "!gcloud dataproc workflow-templates delete wf-daily-product-revenue-bq --quiet"
   ]
  },
  {
   "cell_type": "markdown",
   "metadata": {},
   "source": [
    "Here is the command to create Dataproc Workflow.\n",
    "\n",
    "```shell\n",
    "gcloud dataproc workflow-templates \\\n",
    "    create wf-daily-product-revenue-bq\n",
    "```"
   ]
  },
  {
   "cell_type": "markdown",
   "metadata": {},
   "source": [
    "Create new workflow template that adds the daily product revenue to BigQuery"
   ]
  },
  {
   "cell_type": "code",
   "execution_count": 36,
   "metadata": {},
   "outputs": [],
   "source": [
    "!gcloud dataproc workflow-templates create wf-daily-product-revenue-bq"
   ]
  },
  {
   "cell_type": "code",
   "execution_count": 37,
   "metadata": {},
   "outputs": [
    {
     "name": "stdout",
     "output_type": "stream",
     "text": [
      "ID                           JOBS  UPDATE_TIME                  VERSION\n",
      "getting-started              4     2023-06-11T23:01:29.613712Z  1\n",
      "wf-daily-product-revenue     4     2023-06-12T00:18:39.027622Z  6\n",
      "wf-daily-product-revenue-bq  0     2023-07-24T00:41:29.127620Z  1\n"
     ]
    }
   ],
   "source": [
    "!gcloud dataproc workflow-templates list"
   ]
  },
  {
   "cell_type": "markdown",
   "metadata": {},
   "source": [
    "Here is the command to attach running or active Dataproc Cluster to the Dataproc Workflow. We need to specify the label for the cluster.\n",
    "\n",
    "```shell\n",
    "gcloud dataproc workflow-templates \\\n",
    "    set-cluster-selector \\\n",
    "    wf-daily-product-revenue-bq \\\n",
    "    --cluster-labels goog-dataproc-cluster-name=aidataprocdev\n",
    "```"
   ]
  },
  {
   "cell_type": "code",
   "execution_count": 38,
   "metadata": {},
   "outputs": [],
   "source": [
    "!gcloud dataproc workflow-templates set-cluster-selector wf-daily-product-revenue-bq --cluster-labels goog-dataproc-cluster-name=cluster-b442"
   ]
  },
  {
   "cell_type": "markdown",
   "metadata": {},
   "source": [
    "Here are the commands to add Spark SQL Jobs to the Dataproc Workflow.\n",
    "\n",
    "```shell\n",
    "gcloud dataproc workflow-templates add-job spark-sql \\\n",
    "    --step-id=job-cleanup \\\n",
    "    --file=gs://airetail/scripts/daily_product_revenue/cleanup.sql \\\n",
    "    --workflow-template=wf-daily-product-revenue-bq\n",
    "\n",
    "# File Format Converter jobs with dependency on cleanup\n",
    "gcloud dataproc workflow-templates add-job spark-sql \\\n",
    "    --step-id=job-convert-orders \\\n",
    "    --file=gs://airetail/scripts/daily_product_revenue/file_format_converter.sql \\\n",
    "    --params=bucket_name=gs://airetail,table_name=orders \\\n",
    "    --workflow-template=wf-daily-product-revenue-bq \\\n",
    "    --start-after=job-cleanup\n",
    "\n",
    "gcloud dataproc workflow-templates add-job spark-sql \\\n",
    "    --step-id=job-convert-order-items \\\n",
    "    --file=gs://airetail/scripts/daily_product_revenue/file_format_converter.sql \\\n",
    "    --params=bucket_name=gs://airetail,table_name=order_items \\\n",
    "    --workflow-template=wf-daily-product-revenue-bq \\\n",
    "    --start-after=job-cleanup\n",
    "\n",
    "# Last Job which depends on convert orders and order_items jobs\n",
    "gcloud dataproc workflow-templates add-job spark-sql \\\n",
    "    --step-id=job-daily-product-revenue \\\n",
    "    --file=gs://airetail/scripts/daily_product_revenue/compute_daily_product_revenue.sql \\\n",
    "    --params=bucket_name=gs://airetail \\\n",
    "    --workflow-template=wf-daily-product-revenue-bq \\\n",
    "    --start-after=job-convert-orders,job-convert-order-items\n",
    "```"
   ]
  },
  {
   "cell_type": "code",
   "execution_count": 39,
   "metadata": {},
   "outputs": [
    {
     "name": "stdout",
     "output_type": "stream",
     "text": [
      "createTime: '2023-07-24T00:41:29.127620Z'\n",
      "id: wf-daily-product-revenue-bq\n",
      "jobs:\n",
      "- sparkSqlJob:\n",
      "    queryFileUri: gs://airetail_mld/scripts/daily_product_revenue/cleanup.sql\n",
      "  stepId: job-cleanup\n",
      "name: projects/dataanalytics-347914/regions/us-central1/workflowTemplates/wf-daily-product-revenue-bq\n",
      "placement:\n",
      "  clusterSelector:\n",
      "    clusterLabels:\n",
      "      goog-dataproc-cluster-name: cluster-b442\n",
      "updateTime: '2023-07-24T00:41:36.526100Z'\n",
      "version: 3\n"
     ]
    }
   ],
   "source": [
    "!gcloud dataproc workflow-templates add-job spark-sql --step-id=job-cleanup --file=gs://airetail_mld/scripts/daily_product_revenue/cleanup.sql --workflow-template=wf-daily-product-revenue-bq"
   ]
  },
  {
   "cell_type": "code",
   "execution_count": 40,
   "metadata": {},
   "outputs": [
    {
     "name": "stdout",
     "output_type": "stream",
     "text": [
      "createTime: '2023-07-24T00:41:29.127620Z'\n",
      "id: wf-daily-product-revenue-bq\n",
      "jobs:\n",
      "- sparkSqlJob:\n",
      "    queryFileUri: gs://airetail_mld/scripts/daily_product_revenue/cleanup.sql\n",
      "  stepId: job-cleanup\n",
      "- prerequisiteStepIds:\n",
      "  - job-cleanup\n",
      "  sparkSqlJob:\n",
      "    queryFileUri: gs://airetail_mld/scripts/daily_product_revenue/file_format_converter.sql\n",
      "    scriptVariables:\n",
      "      bucket_name: gs://airetail_mld\n",
      "      table_name: orders\n",
      "  stepId: job-convert-orders\n",
      "name: projects/dataanalytics-347914/regions/us-central1/workflowTemplates/wf-daily-product-revenue-bq\n",
      "placement:\n",
      "  clusterSelector:\n",
      "    clusterLabels:\n",
      "      goog-dataproc-cluster-name: cluster-b442\n",
      "updateTime: '2023-07-24T00:41:39.240440Z'\n",
      "version: 4\n"
     ]
    }
   ],
   "source": [
    "\n",
    "!gcloud dataproc workflow-templates add-job spark-sql --step-id=job-convert-orders --file=gs://airetail_mld/scripts/daily_product_revenue/file_format_converter.sql --params=bucket_name=gs://airetail_mld,table_name=orders --workflow-template=wf-daily-product-revenue-bq --start-after=job-cleanup"
   ]
  },
  {
   "cell_type": "code",
   "execution_count": 41,
   "metadata": {},
   "outputs": [
    {
     "name": "stdout",
     "output_type": "stream",
     "text": [
      "createTime: '2023-07-24T00:41:29.127620Z'\n",
      "id: wf-daily-product-revenue-bq\n",
      "jobs:\n",
      "- sparkSqlJob:\n",
      "    queryFileUri: gs://airetail_mld/scripts/daily_product_revenue/cleanup.sql\n",
      "  stepId: job-cleanup\n",
      "- prerequisiteStepIds:\n",
      "  - job-cleanup\n",
      "  sparkSqlJob:\n",
      "    queryFileUri: gs://airetail_mld/scripts/daily_product_revenue/file_format_converter.sql\n",
      "    scriptVariables:\n",
      "      bucket_name: gs://airetail_mld\n",
      "      table_name: orders\n",
      "  stepId: job-convert-orders\n",
      "- prerequisiteStepIds:\n",
      "  - job-cleanup\n",
      "  sparkSqlJob:\n",
      "    queryFileUri: gs://airetail_mld/scripts/daily_product_revenue/file_format_converter.sql\n",
      "    scriptVariables:\n",
      "      bucket_name: gs://airetail_mld\n",
      "      table_name: order_items\n",
      "  stepId: job-convert-order-items\n",
      "name: projects/dataanalytics-347914/regions/us-central1/workflowTemplates/wf-daily-product-revenue-bq\n",
      "placement:\n",
      "  clusterSelector:\n",
      "    clusterLabels:\n",
      "      goog-dataproc-cluster-name: cluster-b442\n",
      "updateTime: '2023-07-24T00:41:41.942460Z'\n",
      "version: 5\n"
     ]
    }
   ],
   "source": [
    "!gcloud dataproc workflow-templates add-job spark-sql --step-id=job-convert-order-items --file=gs://airetail_mld/scripts/daily_product_revenue/file_format_converter.sql --params=bucket_name=gs://airetail_mld,table_name=order_items --workflow-template=wf-daily-product-revenue-bq --start-after=job-cleanup"
   ]
  },
  {
   "cell_type": "code",
   "execution_count": 42,
   "metadata": {},
   "outputs": [
    {
     "name": "stdout",
     "output_type": "stream",
     "text": [
      "createTime: '2023-07-24T00:41:29.127620Z'\n",
      "id: wf-daily-product-revenue-bq\n",
      "jobs:\n",
      "- sparkSqlJob:\n",
      "    queryFileUri: gs://airetail_mld/scripts/daily_product_revenue/cleanup.sql\n",
      "  stepId: job-cleanup\n",
      "- prerequisiteStepIds:\n",
      "  - job-cleanup\n",
      "  sparkSqlJob:\n",
      "    queryFileUri: gs://airetail_mld/scripts/daily_product_revenue/file_format_converter.sql\n",
      "    scriptVariables:\n",
      "      bucket_name: gs://airetail_mld\n",
      "      table_name: orders\n",
      "  stepId: job-convert-orders\n",
      "- prerequisiteStepIds:\n",
      "  - job-cleanup\n",
      "  sparkSqlJob:\n",
      "    queryFileUri: gs://airetail_mld/scripts/daily_product_revenue/file_format_converter.sql\n",
      "    scriptVariables:\n",
      "      bucket_name: gs://airetail_mld\n",
      "      table_name: order_items\n",
      "  stepId: job-convert-order-items\n",
      "- prerequisiteStepIds:\n",
      "  - job-convert-orders\n",
      "  - job-convert-order-items\n",
      "  sparkSqlJob:\n",
      "    queryFileUri: gs://airetail_mld/scripts/daily_product_revenue/compute_daily_product_revenue.sql\n",
      "    scriptVariables:\n",
      "      bucket_name: gs://airetail_mld\n",
      "  stepId: job-daily-product-revenue\n",
      "name: projects/dataanalytics-347914/regions/us-central1/workflowTemplates/wf-daily-product-revenue-bq\n",
      "placement:\n",
      "  clusterSelector:\n",
      "    clusterLabels:\n",
      "      goog-dataproc-cluster-name: cluster-b442\n",
      "updateTime: '2023-07-24T00:41:45.387863Z'\n",
      "version: 6\n"
     ]
    }
   ],
   "source": [
    "!gcloud dataproc workflow-templates add-job spark-sql --step-id=job-daily-product-revenue --file=gs://airetail_mld/scripts/daily_product_revenue/compute_daily_product_revenue.sql --params=bucket_name=gs://airetail_mld --workflow-template=wf-daily-product-revenue-bq --start-after=job-convert-orders,job-convert-order-items"
   ]
  },
  {
   "cell_type": "code",
   "execution_count": 43,
   "metadata": {},
   "outputs": [
    {
     "name": "stdout",
     "output_type": "stream",
     "text": [
      "ID                           JOBS  UPDATE_TIME                  VERSION\n",
      "getting-started              4     2023-06-11T23:01:29.613712Z  1\n",
      "wf-daily-product-revenue     4     2023-06-12T00:18:39.027622Z  6\n",
      "wf-daily-product-revenue-bq  4     2023-07-24T00:41:45.387863Z  6\n"
     ]
    }
   ],
   "source": [
    "!gcloud dataproc workflow-templates list"
   ]
  },
  {
   "cell_type": "code",
   "execution_count": 44,
   "metadata": {},
   "outputs": [
    {
     "name": "stdout",
     "output_type": "stream",
     "text": [
      "\u001b[1;31mERROR:\u001b[0m (gcloud.dataproc.workflow-templates.add-job) Command name argument expected.\n",
      "\n",
      "\u001b[m\u001b[1mAvailable commands for gcloud dataproc workflow-templates add-job:\u001b[m\n",
      "\n",
      "      hadoop                  Add a hadoop job to the workflow template.\n",
      "      hive                    Add a Hive job to the workflow template.\n",
      "      pig                     Add a Pig job to the workflow template.\n",
      "      presto                  Add a Presto job to the workflow template.\n",
      "      pyspark                 Add a PySpark job to the workflow template.\n",
      "      spark                   Add a Spark job to the workflow template.\n",
      "      spark-r                 Add a SparkR job to the workflow template.\n",
      "      spark-sql               Add a SparkSql job to the workflow template.\n",
      "\n",
      "\u001b[mFor detailed information on this command and its flags, run:\n",
      "  gcloud dataproc workflow-templates add-job --help\n"
     ]
    }
   ],
   "source": [
    "!gcloud dataproc workflow-templates add-job"
   ]
  },
  {
   "cell_type": "code",
   "execution_count": 45,
   "metadata": {},
   "outputs": [
    {
     "name": "stdout",
     "output_type": "stream",
     "text": [
      "\u001b[1;31mERROR:\u001b[0m (gcloud.dataproc.workflow-templates.add-job.pyspark) argument PY_FILE --step-id (--workflow-template : --region): Must be specified.\n",
      "Usage: gcloud dataproc workflow-templates add-job pyspark PY_FILE --step-id=STEP_ID (--workflow-template=WORKFLOW_TEMPLATE : --region=REGION) [optional flags] [-- JOB_ARGS ...]\n",
      "  optional flags may be  --archives | --driver-log-levels | --files | --help |\n",
      "                         --jars | --labels | --properties | --properties-file |\n",
      "                         --py-files | --region | --start-after\n",
      "\n",
      "For detailed information on this command and its flags, run:\n",
      "  gcloud dataproc workflow-templates add-job pyspark --help\n"
     ]
    }
   ],
   "source": [
    "!gcloud dataproc workflow-templates add-job pyspark"
   ]
  },
  {
   "cell_type": "markdown",
   "metadata": {},
   "source": [
    "* Make sure to specify right project id in below command. Also reformat it to single line while running on Windows.\n",
    "\n",
    "You can use the `gcloud dataproc jobs submit` command as reference.\n",
    "\n",
    "```\n",
    "gcloud dataproc jobs submit \\\n",
    "    pyspark --cluster=aidataprocdev \\\n",
    "    --jars=gs://spark-lib/bigquery/spark-bigquery-with-dependencies_2.12-0.26.0.jar \\\n",
    "\t--properties=spark.app.name=\"BigQuery Loader - Daily Product Revenue\" \\\n",
    "    --properties=spark.submit.deployMode=cluster \\\n",
    "    --properties=spark.yarn.appMasterEnv.DATA_URI=gs://airetail/retail_gold.db/daily_product_revenue \\\n",
    "    --properties=spark.yarn.appMasterEnv.PROJECT_ID=tidy-fort-361710 \\\n",
    "    --properties=spark.yarn.appMasterEnv.DATASET_NAME=retail \\\n",
    "    --properties=spark.yarn.appMasterEnv.GCS_TEMP_BUCKET=airetail \\\n",
    "    gs://airetail/apps/daily_product_revenue_bq/app.py\n",
    "```"
   ]
  },
  {
   "cell_type": "markdown",
   "metadata": {},
   "source": [
    "Add new pyspark job into workflow template"
   ]
  },
  {
   "cell_type": "code",
   "execution_count": 46,
   "metadata": {},
   "outputs": [
    {
     "name": "stdout",
     "output_type": "stream",
     "text": [
      "createTime: '2023-07-24T00:41:29.127620Z'\n",
      "id: wf-daily-product-revenue-bq\n",
      "jobs:\n",
      "- sparkSqlJob:\n",
      "    queryFileUri: gs://airetail_mld/scripts/daily_product_revenue/cleanup.sql\n",
      "  stepId: job-cleanup\n",
      "- prerequisiteStepIds:\n",
      "  - job-cleanup\n",
      "  sparkSqlJob:\n",
      "    queryFileUri: gs://airetail_mld/scripts/daily_product_revenue/file_format_converter.sql\n",
      "    scriptVariables:\n",
      "      bucket_name: gs://airetail_mld\n",
      "      table_name: orders\n",
      "  stepId: job-convert-orders\n",
      "- prerequisiteStepIds:\n",
      "  - job-cleanup\n",
      "  sparkSqlJob:\n",
      "    queryFileUri: gs://airetail_mld/scripts/daily_product_revenue/file_format_converter.sql\n",
      "    scriptVariables:\n",
      "      bucket_name: gs://airetail_mld\n",
      "      table_name: order_items\n",
      "  stepId: job-convert-order-items\n",
      "- prerequisiteStepIds:\n",
      "  - job-convert-orders\n",
      "  - job-convert-order-items\n",
      "  sparkSqlJob:\n",
      "    queryFileUri: gs://airetail_mld/scripts/daily_product_revenue/compute_daily_product_revenue.sql\n",
      "    scriptVariables:\n",
      "      bucket_name: gs://airetail_mld\n",
      "  stepId: job-daily-product-revenue\n",
      "- prerequisiteStepIds:\n",
      "  - job-daily-product-revenue\n",
      "  pysparkJob:\n",
      "    jarFileUris:\n",
      "    - gs://spark-lib/bigquery/spark-bigquery-with-dependencies_2.12-0.31.0.jar\n",
      "    mainPythonFileUri: gs://airetail_mld/apps/daily_product_revenue_bq/app.py\n",
      "    properties:\n",
      "      spark.name: BigQuery Loader - Daily Product Revenue\n",
      "      spark.submit.deployMode: cluster\n",
      "      spark.yarn.appMasterEnv.DATASET_NAME: retail\n",
      "      spark.yarn.appMasterEnv.DATA_URI: gs://airetail_mld/retail_gold.db/daily_product_revenue\n",
      "      spark.yarn.appMasterEnv.GCS_TEMP_BUCKET: airetail_mld\n",
      "      spark.yarn.appMasterEnv.PROJECT_ID: dataanalytics-347914\n",
      "  stepId: job-load-dpr-bq\n",
      "name: projects/dataanalytics-347914/regions/us-central1/workflowTemplates/wf-daily-product-revenue-bq\n",
      "placement:\n",
      "  clusterSelector:\n",
      "    clusterLabels:\n",
      "      goog-dataproc-cluster-name: cluster-b442\n",
      "updateTime: '2023-07-24T00:41:51.218007Z'\n",
      "version: 7\n"
     ]
    }
   ],
   "source": [
    "!gcloud dataproc workflow-templates \\\n",
    "    add-job pyspark \\\n",
    "    --step-id=job-load-dpr-bq \\\n",
    "    --jars=gs://spark-lib/bigquery/spark-bigquery-with-dependencies_2.12-0.31.0.jar \\\n",
    "\t--properties=spark.name=\"BigQuery Loader - Daily Product Revenue\",spark.submit.deployMode=cluster,spark.yarn.appMasterEnv.DATA_URI=gs://airetail_mld/retail_gold.db/daily_product_revenue,spark.yarn.appMasterEnv.PROJECT_ID=dataanalytics-347914,spark.yarn.appMasterEnv.DATASET_NAME=retail,spark.yarn.appMasterEnv.GCS_TEMP_BUCKET=airetail_mld \\\n",
    "    --workflow-template=wf-daily-product-revenue-bq \\\n",
    "    --start-after=job-daily-product-revenue \\\n",
    "    gs://airetail_mld/apps/daily_product_revenue_bq/app.py"
   ]
  },
  {
   "cell_type": "code",
   "execution_count": 47,
   "metadata": {},
   "outputs": [
    {
     "name": "stdout",
     "output_type": "stream",
     "text": [
      "createTime: '2023-07-24T00:41:29.127620Z'\n",
      "id: wf-daily-product-revenue-bq\n",
      "jobs:\n",
      "- sparkSqlJob:\n",
      "    queryFileUri: gs://airetail_mld/scripts/daily_product_revenue/cleanup.sql\n",
      "  stepId: job-cleanup\n",
      "- prerequisiteStepIds:\n",
      "  - job-cleanup\n",
      "  sparkSqlJob:\n",
      "    queryFileUri: gs://airetail_mld/scripts/daily_product_revenue/file_format_converter.sql\n",
      "    scriptVariables:\n",
      "      bucket_name: gs://airetail_mld\n",
      "      table_name: orders\n",
      "  stepId: job-convert-orders\n",
      "- prerequisiteStepIds:\n",
      "  - job-cleanup\n",
      "  sparkSqlJob:\n",
      "    queryFileUri: gs://airetail_mld/scripts/daily_product_revenue/file_format_converter.sql\n",
      "    scriptVariables:\n",
      "      bucket_name: gs://airetail_mld\n",
      "      table_name: order_items\n",
      "  stepId: job-convert-order-items\n",
      "- prerequisiteStepIds:\n",
      "  - job-convert-orders\n",
      "  - job-convert-order-items\n",
      "  sparkSqlJob:\n",
      "    queryFileUri: gs://airetail_mld/scripts/daily_product_revenue/compute_daily_product_revenue.sql\n",
      "    scriptVariables:\n",
      "      bucket_name: gs://airetail_mld\n",
      "  stepId: job-daily-product-revenue\n",
      "- prerequisiteStepIds:\n",
      "  - job-daily-product-revenue\n",
      "  pysparkJob:\n",
      "    jarFileUris:\n",
      "    - gs://spark-lib/bigquery/spark-bigquery-with-dependencies_2.12-0.31.0.jar\n",
      "    mainPythonFileUri: gs://airetail_mld/apps/daily_product_revenue_bq/app.py\n",
      "    properties:\n",
      "      spark.name: BigQuery Loader - Daily Product Revenue\n",
      "      spark.submit.deployMode: cluster\n",
      "      spark.yarn.appMasterEnv.DATASET_NAME: retail\n",
      "      spark.yarn.appMasterEnv.DATA_URI: gs://airetail_mld/retail_gold.db/daily_product_revenue\n",
      "      spark.yarn.appMasterEnv.GCS_TEMP_BUCKET: airetail_mld\n",
      "      spark.yarn.appMasterEnv.PROJECT_ID: dataanalytics-347914\n",
      "  stepId: job-load-dpr-bq\n",
      "name: projects/dataanalytics-347914/regions/us-central1/workflowTemplates/wf-daily-product-revenue-bq\n",
      "placement:\n",
      "  clusterSelector:\n",
      "    clusterLabels:\n",
      "      goog-dataproc-cluster-name: cluster-b442\n",
      "updateTime: '2023-07-24T00:41:51.218007Z'\n",
      "version: 7\n"
     ]
    }
   ],
   "source": [
    "!gcloud dataproc workflow-templates describe wf-daily-product-revenue-bq"
   ]
  },
  {
   "cell_type": "markdown",
   "metadata": {},
   "source": [
    "Here is the command to instantiate or run Dataproc Workflow.\n",
    "\n",
    "```shell\n",
    "gcloud dataproc workflow-templates \\\n",
    "    instantiate wf-daily-product-revenue-bq\n",
    "```"
   ]
  },
  {
   "cell_type": "code",
   "execution_count": 48,
   "metadata": {},
   "outputs": [
    {
     "name": "stdout",
     "output_type": "stream",
     "text": [
      "NAME          PLATFORM  WORKER_COUNT  PREEMPTIBLE_WORKER_COUNT  STATUS   ZONE           SCHEDULED_DELETE\n",
      "cluster-b442  GCE                                               RUNNING  us-central1-c\n"
     ]
    }
   ],
   "source": [
    "!gcloud dataproc clusters list"
   ]
  },
  {
   "cell_type": "code",
   "execution_count": 49,
   "metadata": {},
   "outputs": [
    {
     "name": "stdout",
     "output_type": "stream",
     "text": [
      "\u001b[1;31mERROR:\u001b[0m (gcloud.dataproc.clusters.start) FAILED_PRECONDITION: Cluster 'cluster-b442' must be stopped before it can be started, current cluster state is 'RUNNING'.\n"
     ]
    }
   ],
   "source": [
    "!gcloud dataproc clusters start cluster-b442"
   ]
  },
  {
   "cell_type": "code",
   "execution_count": 50,
   "metadata": {},
   "outputs": [
    {
     "name": "stdout",
     "output_type": "stream",
     "text": [
      "Waiting on operation [projects/dataanalytics-347914/regions/us-central1/operations/bed725f3-52ce-32de-b0bc-8400dbb83ac5].\n",
      "WorkflowTemplate [wf-daily-product-revenue-bq] RUNNING\n",
      "Job ID job-cleanup-o37dkn32rthzg RUNNING\n",
      "Job ID job-cleanup-o37dkn32rthzg COMPLETED\n",
      "Job ID job-convert-orders-o37dkn32rthzg RUNNING\n",
      "Job ID job-convert-order-items-o37dkn32rthzg RUNNING\n",
      "Job ID job-convert-orders-o37dkn32rthzg COMPLETED\n",
      "Job ID job-convert-order-items-o37dkn32rthzg COMPLETED\n",
      "Job ID job-daily-product-revenue-o37dkn32rthzg RUNNING\n",
      "Job ID job-daily-product-revenue-o37dkn32rthzg COMPLETED\n",
      "Job ID job-load-dpr-bq-o37dkn32rthzg RUNNING\n",
      "WorkflowTemplate [wf-daily-product-revenue-bq] DONE\n",
      "Job ID job-load-dpr-bq-o37dkn32rthzg COMPLETED\n"
     ]
    }
   ],
   "source": [
    "# This will take some time to run\n",
    "\n",
    "!gcloud dataproc workflow-templates instantiate wf-daily-product-revenue-bq"
   ]
  },
  {
   "cell_type": "code",
   "execution_count": 51,
   "metadata": {},
   "outputs": [
    {
     "name": "stdout",
     "output_type": "stream",
     "text": [
      "\u001b[1;31mERROR:\u001b[0m (gcloud.dataproc.workflow-templates.remove-job) argument (TEMPLATE : --region=REGION): Must be specified.\n",
      "Usage: gcloud dataproc workflow-templates remove-job (TEMPLATE : --region=REGION) [optional flags]\n",
      "  optional flags may be  --help | --region | --step-id\n",
      "\n",
      "For detailed information on this command and its flags, run:\n",
      "  gcloud dataproc workflow-templates remove-job --help\n"
     ]
    }
   ],
   "source": [
    "!gcloud dataproc workflow-templates remove-job"
   ]
  },
  {
   "cell_type": "code",
   "execution_count": 52,
   "metadata": {},
   "outputs": [],
   "source": [
    "!gcloud dataproc workflow-templates remove-job wf-daily-product-revenue-bq --step-id=job-load-dpr-bq --quiet"
   ]
  },
  {
   "cell_type": "code",
   "execution_count": 53,
   "metadata": {},
   "outputs": [
    {
     "name": "stdout",
     "output_type": "stream",
     "text": [
      "createTime: '2023-07-24T00:41:29.127620Z'\n",
      "id: wf-daily-product-revenue-bq\n",
      "jobs:\n",
      "- sparkSqlJob:\n",
      "    queryFileUri: gs://airetail_mld/scripts/daily_product_revenue/cleanup.sql\n",
      "  stepId: job-cleanup\n",
      "- prerequisiteStepIds:\n",
      "  - job-cleanup\n",
      "  sparkSqlJob:\n",
      "    queryFileUri: gs://airetail_mld/scripts/daily_product_revenue/file_format_converter.sql\n",
      "    scriptVariables:\n",
      "      bucket_name: gs://airetail_mld\n",
      "      table_name: orders\n",
      "  stepId: job-convert-orders\n",
      "- prerequisiteStepIds:\n",
      "  - job-cleanup\n",
      "  sparkSqlJob:\n",
      "    queryFileUri: gs://airetail_mld/scripts/daily_product_revenue/file_format_converter.sql\n",
      "    scriptVariables:\n",
      "      bucket_name: gs://airetail_mld\n",
      "      table_name: order_items\n",
      "  stepId: job-convert-order-items\n",
      "- prerequisiteStepIds:\n",
      "  - job-convert-orders\n",
      "  - job-convert-order-items\n",
      "  sparkSqlJob:\n",
      "    queryFileUri: gs://airetail_mld/scripts/daily_product_revenue/compute_daily_product_revenue.sql\n",
      "    scriptVariables:\n",
      "      bucket_name: gs://airetail_mld\n",
      "  stepId: job-daily-product-revenue\n",
      "- prerequisiteStepIds:\n",
      "  - job-daily-product-revenue\n",
      "  pysparkJob:\n",
      "    jarFileUris:\n",
      "    - gs://spark-lib/bigquery/spark-bigquery-with-dependencies_2.12-0.31.0.jar\n",
      "    mainPythonFileUri: gs://airetail_mld/apps/daily_product_revenue_bq/app.py\n",
      "    properties:\n",
      "      spark.name: BigQuery Loader - Daily Product Revenue\n",
      "      spark.submit.deployMode: cluster\n",
      "      spark.yarn.appMasterEnv.DATASET_NAME: retail\n",
      "      spark.yarn.appMasterEnv.DATA_URI: gs://airetail_mld/retail_gold.db/daily_product_revenue\n",
      "      spark.yarn.appMasterEnv.GCS_TEMP_BUCKET: airetail_mld\n",
      "      spark.yarn.appMasterEnv.PROJECT_ID: dataanalytics-347914\n",
      "  stepId: job-load-dpr-bq\n",
      "name: projects/dataanalytics-347914/regions/us-central1/workflowTemplates/wf-daily-product-revenue-bq\n",
      "placement:\n",
      "  clusterSelector:\n",
      "    clusterLabels:\n",
      "      goog-dataproc-cluster-name: cluster-b442\n",
      "updateTime: '2023-07-24T00:44:24.789343Z'\n",
      "version: 9\n"
     ]
    }
   ],
   "source": [
    "!gcloud dataproc workflow-templates \\\n",
    "    add-job pyspark \\\n",
    "    --step-id=job-load-dpr-bq \\\n",
    "    --jars=gs://spark-lib/bigquery/spark-bigquery-with-dependencies_2.12-0.31.0.jar \\\n",
    "\t--properties=spark.name=\"BigQuery Loader - Daily Product Revenue\",spark.submit.deployMode=cluster,spark.yarn.appMasterEnv.DATA_URI=gs://airetail_mld/retail_gold.db/daily_product_revenue,spark.yarn.appMasterEnv.PROJECT_ID=dataanalytics-347914,spark.yarn.appMasterEnv.DATASET_NAME=retail,spark.yarn.appMasterEnv.GCS_TEMP_BUCKET=airetail_mld \\\n",
    "    --workflow-template=wf-daily-product-revenue-bq \\\n",
    "    --start-after=job-daily-product-revenue \\\n",
    "    gs://airetail_mld/apps/daily_product_revenue_bq/app.py"
   ]
  },
  {
   "cell_type": "code",
   "execution_count": 54,
   "metadata": {},
   "outputs": [
    {
     "name": "stdout",
     "output_type": "stream",
     "text": [
      "Waiting on operation [projects/dataanalytics-347914/regions/us-central1/operations/c122da01-c08c-3496-9e23-7b4091a8aa45].\n",
      "WorkflowTemplate [wf-daily-product-revenue-bq] RUNNING\n",
      "Job ID job-cleanup-5eewr5sbj5ojw RUNNING\n",
      "Job ID job-cleanup-5eewr5sbj5ojw COMPLETED\n",
      "Job ID job-convert-orders-5eewr5sbj5ojw RUNNING\n",
      "Job ID job-convert-order-items-5eewr5sbj5ojw RUNNING\n",
      "Job ID job-convert-orders-5eewr5sbj5ojw COMPLETED\n",
      "Job ID job-convert-order-items-5eewr5sbj5ojw COMPLETED\n",
      "Job ID job-daily-product-revenue-5eewr5sbj5ojw RUNNING\n",
      "Job ID job-daily-product-revenue-5eewr5sbj5ojw COMPLETED\n",
      "Job ID job-load-dpr-bq-5eewr5sbj5ojw RUNNING\n",
      "WorkflowTemplate [wf-daily-product-revenue-bq] DONE\n",
      "Job ID job-load-dpr-bq-5eewr5sbj5ojw COMPLETED\n"
     ]
    }
   ],
   "source": [
    "!gcloud dataproc workflow-templates instantiate wf-daily-product-revenue-bq"
   ]
  }
 ],
 "metadata": {
  "kernelspec": {
   "display_name": "Python 3.9.12 ('deg-venv': venv)",
   "language": "python",
   "name": "python3"
  },
  "language_info": {
   "codemirror_mode": {
    "name": "ipython",
    "version": 3
   },
   "file_extension": ".py",
   "mimetype": "text/x-python",
   "name": "python",
   "nbconvert_exporter": "python",
   "pygments_lexer": "ipython3",
   "version": "3.9.16"
  },
  "orig_nbformat": 4,
  "vscode": {
   "interpreter": {
    "hash": "4a9d607f6995d470a72ac62c14cbba774ae3a8ede2bb7bb3a284130b245adccf"
   }
  }
 },
 "nbformat": 4,
 "nbformat_minor": 2
}
