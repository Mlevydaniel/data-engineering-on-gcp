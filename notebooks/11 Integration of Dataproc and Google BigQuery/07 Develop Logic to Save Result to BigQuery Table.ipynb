{
 "cells": [
  {
   "cell_type": "code",
   "execution_count": 1,
   "metadata": {},
   "outputs": [],
   "source": [
    "from pyspark.sql import SparkSession"
   ]
  },
  {
   "cell_type": "code",
   "execution_count": 2,
   "metadata": {},
   "outputs": [
    {
     "name": "stderr",
     "output_type": "stream",
     "text": [
      "Setting default log level to \"WARN\".\n",
      "To adjust logging level use sc.setLogLevel(newLevel). For SparkR, use setLogLevel(newLevel).\n",
      "23/07/22 23:48:58 INFO org.apache.spark.SparkEnv: Registering MapOutputTracker\n",
      "23/07/22 23:48:58 INFO org.apache.spark.SparkEnv: Registering BlockManagerMaster\n",
      "23/07/22 23:48:58 INFO org.apache.spark.SparkEnv: Registering BlockManagerMasterHeartbeat\n",
      "23/07/22 23:48:58 INFO org.apache.spark.SparkEnv: Registering OutputCommitCoordinator\n"
     ]
    }
   ],
   "source": [
    "spark = SparkSession. \\\n",
    "    builder. \\\n",
    "    config('spark.jars', 'gs://spark-lib/bigquery/spark-bigquery-with-dependencies_2.12-0.31.0.jar'). \\\n",
    "    master('yarn'). \\\n",
    "    appName('Spark and BigQuery Integration'). \\\n",
    "    getOrCreate()"
   ]
  },
  {
   "cell_type": "code",
   "execution_count": 3,
   "metadata": {},
   "outputs": [],
   "source": [
    "project_id = 'dataanalytics-347914'"
   ]
  },
  {
   "cell_type": "code",
   "execution_count": 5,
   "metadata": {},
   "outputs": [
    {
     "name": "stderr",
     "output_type": "stream",
     "text": [
      "                                                                                \r"
     ]
    }
   ],
   "source": [
    "daily_product_revenue = spark. \\\n",
    "    read. \\\n",
    "    parquet('gs://airetail_mld/retail_gold.db/daily_product_revenue')"
   ]
  },
  {
   "cell_type": "code",
   "execution_count": 6,
   "metadata": {},
   "outputs": [
    {
     "name": "stdout",
     "output_type": "stream",
     "text": [
      "root\n",
      " |-- order_date: string (nullable = true)\n",
      " |-- order_item_product_id: integer (nullable = true)\n",
      " |-- order_status: string (nullable = true)\n",
      " |-- product_quantity: integer (nullable = true)\n",
      " |-- product_revenue: float (nullable = true)\n",
      "\n"
     ]
    }
   ],
   "source": [
    "daily_product_revenue.printSchema()"
   ]
  },
  {
   "cell_type": "code",
   "execution_count": 7,
   "metadata": {},
   "outputs": [
    {
     "name": "stderr",
     "output_type": "stream",
     "text": [
      "[Stage 1:>                                                          (0 + 1) / 1]\r"
     ]
    },
    {
     "name": "stdout",
     "output_type": "stream",
     "text": [
      "+--------------------+---------------------+---------------+----------------+---------------+\n",
      "|          order_date|order_item_product_id|   order_status|product_quantity|product_revenue|\n",
      "+--------------------+---------------------+---------------+----------------+---------------+\n",
      "|2013-07-29 00:00:...|                  957|PENDING_PAYMENT|              21|        6299.58|\n",
      "|2013-08-02 00:00:...|                 1073|       COMPLETE|              13|        2599.87|\n",
      "|2013-08-02 00:00:...|                  885|         CLOSED|               7|         174.93|\n",
      "|2013-08-02 00:00:...|                  282|SUSPECTED_FRAUD|               5|         159.95|\n",
      "|2013-08-04 00:00:...|                 1004|         CLOSED|               3|        1199.94|\n",
      "|2013-08-06 00:00:...|                  793|     PROCESSING|               5|          74.95|\n",
      "|2013-08-09 00:00:...|                  282|PENDING_PAYMENT|               4|         127.96|\n",
      "|2013-08-10 00:00:...|                 1073|        PENDING|               7|        1399.93|\n",
      "|2013-08-10 00:00:...|                  502|         CLOSED|               8|          400.0|\n",
      "|2013-08-16 00:00:...|                  403|        PENDING|               8|        1039.92|\n",
      "|2013-08-17 00:00:...|                  825|        PENDING|               3|          95.97|\n",
      "|2013-08-18 00:00:...|                 1073|         CLOSED|               5|         999.95|\n",
      "|2013-08-21 00:00:...|                  627|       CANCELED|               5|         199.95|\n",
      "|2013-08-28 00:00:...|                  957|SUSPECTED_FRAUD|               1|         299.98|\n",
      "|2013-08-30 00:00:...|                  917|       CANCELED|               3|          65.97|\n",
      "|2013-09-03 00:00:...|                  403|        PENDING|              17|        2209.83|\n",
      "|2013-09-05 00:00:...|                 1073|PENDING_PAYMENT|              15|        2999.85|\n",
      "|2013-09-05 00:00:...|                  502|         CLOSED|              27|         1350.0|\n",
      "|2013-09-05 00:00:...|                 1073|        ON_HOLD|               4|         799.96|\n",
      "|2013-09-09 00:00:...|                  365|        ON_HOLD|              22|        1319.78|\n",
      "+--------------------+---------------------+---------------+----------------+---------------+\n",
      "only showing top 20 rows\n",
      "\n"
     ]
    },
    {
     "name": "stderr",
     "output_type": "stream",
     "text": [
      "                                                                                \r"
     ]
    }
   ],
   "source": [
    "daily_product_revenue.show()"
   ]
  },
  {
   "cell_type": "code",
   "execution_count": 9,
   "metadata": {},
   "outputs": [
    {
     "name": "stdout",
     "output_type": "stream",
     "text": [
      "WARNING:  Python 3.5-3.7 will be deprecated on August 8th, 2023. Please use Python version 3.8 and up.\n",
      "\n",
      "If you have a compatible Python interpreter installed, you can use it by setting\n",
      "the CLOUDSDK_PYTHON environment variable to point to it.\n",
      "\n",
      "gs://airetail_mld/pythondemo/\n",
      "gs://airetail_mld/retail_bronze.db/\n",
      "gs://airetail_mld/retail_db/\n",
      "gs://airetail_mld/retail_db_json/\n",
      "gs://airetail_mld/retail_gold.db/\n",
      "gs://airetail_mld/scripts/\n"
     ]
    }
   ],
   "source": [
    "!gsutil ls gs://airetail_mld"
   ]
  },
  {
   "cell_type": "code",
   "execution_count": 10,
   "metadata": {},
   "outputs": [],
   "source": [
    "spark.conf.set('temporaryGcsBucket', 'airetail_mld')"
   ]
  },
  {
   "cell_type": "code",
   "execution_count": 11,
   "metadata": {},
   "outputs": [],
   "source": [
    "\n",
    "project_id = 'dataanalytics-347914'"
   ]
  },
  {
   "cell_type": "code",
   "execution_count": 12,
   "metadata": {},
   "outputs": [
    {
     "name": "stderr",
     "output_type": "stream",
     "text": [
      "                                                                                \r"
     ]
    }
   ],
   "source": [
    "daily_product_revenue. \\\n",
    "    write. \\\n",
    "    mode('overwrite'). \\\n",
    "    format('bigquery'). \\\n",
    "    option('table', f'{project_id}:retail.daily_product_revenue'). \\\n",
    "    save()"
   ]
  },
  {
   "cell_type": "code",
   "execution_count": 13,
   "metadata": {},
   "outputs": [],
   "source": [
    "df = spark. \\\n",
    "    read. \\\n",
    "    format('bigquery'). \\\n",
    "    option('table', f'{project_id}:retail.daily_product_revenue'). \\\n",
    "    load()"
   ]
  },
  {
   "cell_type": "code",
   "execution_count": 14,
   "metadata": {},
   "outputs": [
    {
     "name": "stderr",
     "output_type": "stream",
     "text": [
      "[Stage 3:>                                                          (0 + 1) / 1]\r"
     ]
    },
    {
     "name": "stdout",
     "output_type": "stream",
     "text": [
      "+--------------------+---------------------+------------+----------------+---------------+\n",
      "|          order_date|order_item_product_id|order_status|product_quantity|product_revenue|\n",
      "+--------------------+---------------------+------------+----------------+---------------+\n",
      "|2013-10-27 00:00:...|                  135|      CLOSED|               1|           22.0|\n",
      "|2014-01-14 00:00:...|                  135|      CLOSED|               1|           22.0|\n",
      "|2014-02-03 00:00:...|                  135|      CLOSED|               1|           22.0|\n",
      "|2013-11-28 00:00:...|                  135|      CLOSED|               1|           22.0|\n",
      "|2013-12-26 00:00:...|                  134|      CLOSED|               1|           25.0|\n",
      "|2014-02-28 00:00:...|                  134|      CLOSED|               1|           25.0|\n",
      "|2013-09-11 00:00:...|                  567|      CLOSED|               1|           25.0|\n",
      "|2013-11-24 00:00:...|                  567|      CLOSED|               1|           25.0|\n",
      "|2014-05-21 00:00:...|                  567|      CLOSED|               1|           25.0|\n",
      "|2014-06-02 00:00:...|                  134|      CLOSED|               1|           25.0|\n",
      "|2014-05-25 00:00:...|                  134|      CLOSED|               1|           25.0|\n",
      "|2014-03-25 00:00:...|                  567|      CLOSED|               1|           25.0|\n",
      "|2013-09-30 00:00:...|                  134|      CLOSED|               1|           25.0|\n",
      "|2013-09-03 00:00:...|                  134|      CLOSED|               1|           25.0|\n",
      "|2014-02-25 00:00:...|                  567|      CLOSED|               1|           25.0|\n",
      "|2014-03-20 00:00:...|                  567|      CLOSED|               1|           25.0|\n",
      "|2014-02-23 00:00:...|                  564|      CLOSED|               1|           30.0|\n",
      "|2013-09-29 00:00:...|                  642|      CLOSED|               1|           30.0|\n",
      "|2014-01-10 00:00:...|                  172|      CLOSED|               1|           30.0|\n",
      "|2014-07-24 00:00:...|                  172|      CLOSED|               1|           30.0|\n",
      "+--------------------+---------------------+------------+----------------+---------------+\n",
      "only showing top 20 rows\n",
      "\n"
     ]
    },
    {
     "name": "stderr",
     "output_type": "stream",
     "text": [
      "                                                                                \r"
     ]
    }
   ],
   "source": [
    "df.show()"
   ]
  }
 ],
 "metadata": {
  "kernelspec": {
   "display_name": "Python 3.8.13 ('base')",
   "language": "python",
   "name": "python3"
  },
  "language_info": {
   "codemirror_mode": {
    "name": "ipython",
    "version": 3
   },
   "file_extension": ".py",
   "mimetype": "text/x-python",
   "name": "python",
   "nbconvert_exporter": "python",
   "pygments_lexer": "ipython3",
   "version": "3.8.15"
  },
  "orig_nbformat": 4,
  "vscode": {
   "interpreter": {
    "hash": "e234d837eebba94c7397b4e38c0b82bd3e4741cb2c390182a3fb441eaf8f3cd5"
   }
  }
 },
 "nbformat": 4,
 "nbformat_minor": 2
}
