{
 "cells": [
  {
   "cell_type": "code",
   "execution_count": 21,
   "metadata": {},
   "outputs": [
    {
     "name": "stdout",
     "output_type": "stream",
     "text": [
      "Creating gs://airetail_mld/...\n"
     ]
    }
   ],
   "source": [
    "!gsutil mb gs://airetail_mld"
   ]
  },
  {
   "cell_type": "code",
   "execution_count": 22,
   "metadata": {},
   "outputs": [
    {
     "name": "stdout",
     "output_type": "stream",
     "text": [
      "Copying file://../../data/retail_db/.DS_Store [Content-Type=application/octet-stream]...\n",
      "Copying file://../../data/retail_db/create_db_tables_pg.sql [Content-Type=application/x-sql]...\n",
      "Copying file://../../data/retail_db/schemas.json [Content-Type=application/json]...\n",
      "Copying file://../../data/retail_db/load_db_tables_pg.sql [Content-Type=application/x-sql]...\n",
      "| [4 files][  9.8 MiB/  9.8 MiB]                                                \n",
      "==> NOTE: You are performing a sequence of gsutil operations that may\n",
      "run significantly faster if you instead use gsutil -m cp ... Please\n",
      "see the -m section under \"gsutil help options\" for further information\n",
      "about when gsutil -m can be advantageous.\n",
      "\n",
      "Copying file://../../data/retail_db/customers/part-00000 [Content-Type=application/octet-stream]...\n",
      "Copying file://../../data/retail_db/products/part-00000 [Content-Type=application/octet-stream]...\n",
      "Copying file://../../data/retail_db/departments/part-00000 [Content-Type=application/octet-stream]...\n",
      "Copying file://../../data/retail_db/order_items/part-00000 [Content-Type=application/octet-stream]...\n",
      "Copying file://../../data/retail_db/orders/part-00000 [Content-Type=application/octet-stream]...\n",
      "Copying file://../../data/retail_db/categories/part-00000 [Content-Type=application/octet-stream]...\n",
      "/ [10 files][ 18.9 MiB/ 18.9 MiB]    1.4 MiB/s                                  \n",
      "Operation completed over 10 objects/18.9 MiB.                                    \n"
     ]
    }
   ],
   "source": [
    "!gsutil cp -r ../../data/retail_db gs://airetail_mld/retail_db"
   ]
  },
  {
   "cell_type": "code",
   "execution_count": 24,
   "metadata": {},
   "outputs": [
    {
     "name": "stdout",
     "output_type": "stream",
     "text": [
      "gs://airetail_mld/retail_db/:\n",
      "gs://airetail_mld/retail_db/.DS_Store\n",
      "gs://airetail_mld/retail_db/create_db_tables_pg.sql\n",
      "gs://airetail_mld/retail_db/load_db_tables_pg.sql\n",
      "gs://airetail_mld/retail_db/schemas.json\n",
      "\n",
      "gs://airetail_mld/retail_db/categories/:\n",
      "gs://airetail_mld/retail_db/categories/part-00000\n",
      "\n",
      "gs://airetail_mld/retail_db/customers/:\n",
      "gs://airetail_mld/retail_db/customers/part-00000\n",
      "\n",
      "gs://airetail_mld/retail_db/departments/:\n",
      "gs://airetail_mld/retail_db/departments/part-00000\n",
      "\n",
      "gs://airetail_mld/retail_db/order_items/:\n",
      "gs://airetail_mld/retail_db/order_items/part-00000\n",
      "\n",
      "gs://airetail_mld/retail_db/orders/:\n",
      "gs://airetail_mld/retail_db/orders/part-00000\n",
      "\n",
      "gs://airetail_mld/retail_db/products/:\n",
      "gs://airetail_mld/retail_db/products/part-00000\n"
     ]
    }
   ],
   "source": [
    "!gsutil ls -r gs://airetail_mld/"
   ]
  },
  {
   "cell_type": "code",
   "execution_count": 15,
   "metadata": {
    "ExecuteTime": {
     "end_time": "2023-04-10T01:17:50.606079Z",
     "start_time": "2023-04-10T01:17:50.600670Z"
    }
   },
   "outputs": [],
   "source": [
    "from google.cloud import storage\n",
    "\n",
    "from google.oauth2 import service_account\n",
    "\n",
    "# Using service account credentials\n",
    "project_id = \"dataanalytics-347914\"\n",
    "credentials_path = '/Users/mlevydaniel/Desktop/data-engineering-on-gcp/dataanalytics-347914-a4914820562a.json'\n",
    "credentials = service_account.Credentials.from_service_account_file(credentials_path)"
   ]
  },
  {
   "cell_type": "markdown",
   "metadata": {},
   "source": [
    "In case if the below code fail with authentication error, make sure to create credentials explicitly by running `gcloud auth application-default login` using Terminal."
   ]
  },
  {
   "cell_type": "code",
   "execution_count": 2,
   "metadata": {
    "ExecuteTime": {
     "end_time": "2023-04-10T01:17:52.780118Z",
     "start_time": "2023-04-10T01:17:51.631010Z"
    }
   },
   "outputs": [],
   "source": [
    "gsclient = storage.Client(credentials=credentials)"
   ]
  },
  {
   "cell_type": "code",
   "execution_count": 6,
   "metadata": {
    "ExecuteTime": {
     "end_time": "2023-04-10T01:17:53.518666Z",
     "start_time": "2023-04-10T01:17:53.509331Z"
    }
   },
   "outputs": [
    {
     "data": {
      "text/plain": [
       "<google.cloud.storage.client.Client at 0x7fb9e8849670>"
      ]
     },
     "execution_count": 6,
     "metadata": {},
     "output_type": "execute_result"
    }
   ],
   "source": [
    "gsclient"
   ]
  },
  {
   "cell_type": "code",
   "execution_count": 7,
   "metadata": {
    "ExecuteTime": {
     "end_time": "2023-04-10T01:17:55.255053Z",
     "start_time": "2023-04-10T01:17:55.249453Z"
    },
    "collapsed": true
   },
   "outputs": [
    {
     "name": "stdout",
     "output_type": "stream",
     "text": [
      "Help on method list_buckets in module google.cloud.storage.client:\n",
      "\n",
      "list_buckets(max_results=None, page_token=None, prefix=None, projection='noAcl', fields=None, project=None, page_size=None, timeout=60, retry=<google.api_core.retry.Retry object at 0x7fb9c8b96ee0>) method of google.cloud.storage.client.Client instance\n",
      "    Get all buckets in the project associated to the client.\n",
      "    \n",
      "    This will not populate the list of blobs available in each\n",
      "    bucket.\n",
      "    \n",
      "    See [API reference docs](https://cloud.google.com/storage/docs/json_api/v1/buckets/list) and a [code sample](https://cloud.google.com/storage/docs/samples/storage-list-buckets#storage_list_buckets-python).\n",
      "    \n",
      "    :type max_results: int\n",
      "    :param max_results: (Optional) The maximum number of buckets to return.\n",
      "    \n",
      "    :type page_token: str\n",
      "    :param page_token:\n",
      "        (Optional) If present, return the next batch of buckets, using the\n",
      "        value, which must correspond to the ``nextPageToken`` value\n",
      "        returned in the previous response.  Deprecated: use the ``pages``\n",
      "        property of the returned iterator instead of manually passing the\n",
      "        token.\n",
      "    \n",
      "    :type prefix: str\n",
      "    :param prefix: (Optional) Filter results to buckets whose names begin\n",
      "                   with this prefix.\n",
      "    \n",
      "    :type projection: str\n",
      "    :param projection:\n",
      "        (Optional) Specifies the set of properties to return. If used, must\n",
      "        be 'full' or 'noAcl'. Defaults to 'noAcl'.\n",
      "    \n",
      "    :type fields: str\n",
      "    :param fields:\n",
      "        (Optional) Selector specifying which fields to include in a partial\n",
      "        response. Must be a list of fields. For example to get a partial\n",
      "        response with just the next page token and the language of each\n",
      "        bucket returned: 'items/id,nextPageToken'\n",
      "    \n",
      "    :type project: str\n",
      "    :param project: (Optional) The project whose buckets are to be listed.\n",
      "                    If not passed, uses the project set on the client.\n",
      "    \n",
      "    :type page_size: int\n",
      "    :param page_size: (Optional) Maximum number of buckets to return in each page.\n",
      "        Defaults to a value set by the API.\n",
      "    \n",
      "    :type timeout: float or tuple\n",
      "    :param timeout:\n",
      "        (Optional) The amount of time, in seconds, to wait\n",
      "        for the server response.  See: :ref:`configuring_timeouts`\n",
      "    \n",
      "    :type retry: google.api_core.retry.Retry or google.cloud.storage.retry.ConditionalRetryPolicy\n",
      "    :param retry:\n",
      "        (Optional) How to retry the RPC. See: :ref:`configuring_retries`\n",
      "    \n",
      "    :rtype: :class:`~google.api_core.page_iterator.Iterator`\n",
      "    :raises ValueError: if both ``project`` is ``None`` and the client's\n",
      "                        project is also ``None``.\n",
      "    :returns: Iterator of all :class:`~google.cloud.storage.bucket.Bucket`\n",
      "              belonging to this project.\n",
      "\n"
     ]
    }
   ],
   "source": [
    "help(gsclient.list_buckets)\n"
   ]
  },
  {
   "cell_type": "code",
   "execution_count": 8,
   "metadata": {
    "ExecuteTime": {
     "end_time": "2023-04-10T01:17:58.739988Z",
     "start_time": "2023-04-10T01:17:58.732946Z"
    }
   },
   "outputs": [
    {
     "data": {
      "text/plain": [
       "<google.api_core.page_iterator.HTTPIterator at 0x7fb9e8851bb0>"
      ]
     },
     "execution_count": 8,
     "metadata": {},
     "output_type": "execute_result"
    }
   ],
   "source": [
    "gsclient.list_buckets()"
   ]
  },
  {
   "cell_type": "code",
   "execution_count": 9,
   "metadata": {
    "ExecuteTime": {
     "end_time": "2023-04-10T01:18:00.210597Z",
     "start_time": "2023-04-10T01:17:59.428943Z"
    }
   },
   "outputs": [
    {
     "data": {
      "text/plain": [
       "[<Bucket: mlddldemo>]"
      ]
     },
     "execution_count": 9,
     "metadata": {},
     "output_type": "execute_result"
    }
   ],
   "source": [
    "list(gsclient.list_buckets())"
   ]
  },
  {
   "cell_type": "code",
   "execution_count": 10,
   "metadata": {
    "ExecuteTime": {
     "end_time": "2023-04-10T01:18:01.939877Z",
     "start_time": "2023-04-10T01:18:01.518465Z"
    }
   },
   "outputs": [],
   "source": [
    "bucket = list(gsclient.list_buckets())[0]"
   ]
  },
  {
   "cell_type": "code",
   "execution_count": 11,
   "metadata": {
    "ExecuteTime": {
     "end_time": "2023-04-10T01:18:02.788455Z",
     "start_time": "2023-04-10T01:18:02.782801Z"
    }
   },
   "outputs": [
    {
     "data": {
      "text/plain": [
       "<Bucket: mlddldemo>"
      ]
     },
     "execution_count": 11,
     "metadata": {},
     "output_type": "execute_result"
    }
   ],
   "source": [
    "bucket"
   ]
  },
  {
   "cell_type": "code",
   "execution_count": 12,
   "metadata": {
    "ExecuteTime": {
     "end_time": "2023-04-10T01:18:03.964180Z",
     "start_time": "2023-04-10T01:18:03.957541Z"
    }
   },
   "outputs": [
    {
     "data": {
      "text/plain": [
       "google.cloud.storage.bucket.Bucket"
      ]
     },
     "execution_count": 12,
     "metadata": {},
     "output_type": "execute_result"
    }
   ],
   "source": [
    "type(bucket)"
   ]
  },
  {
   "cell_type": "code",
   "execution_count": 17,
   "metadata": {
    "ExecuteTime": {
     "end_time": "2023-04-10T01:18:06.106370Z",
     "start_time": "2023-04-10T01:18:06.100745Z"
    }
   },
   "outputs": [
    {
     "data": {
      "text/plain": [
       "'mlddldemo'"
      ]
     },
     "execution_count": 17,
     "metadata": {},
     "output_type": "execute_result"
    }
   ],
   "source": [
    "bucket.name"
   ]
  },
  {
   "cell_type": "code",
   "execution_count": 18,
   "metadata": {},
   "outputs": [
    {
     "name": "stdout",
     "output_type": "stream",
     "text": [
      "Help on method get_bucket in module google.cloud.storage.client:\n",
      "\n",
      "get_bucket(bucket_or_name, timeout=60, if_metageneration_match=None, if_metageneration_not_match=None, retry=<google.api_core.retry.Retry object at 0x7fb9c8b96ee0>) method of google.cloud.storage.client.Client instance\n",
      "    Retrieve a bucket via a GET request.\n",
      "    \n",
      "    See [API reference docs](https://cloud.google.com/storage/docs/json_api/v1/buckets/get) and a [code sample](https://cloud.google.com/storage/docs/samples/storage-get-bucket-metadata#storage_get_bucket_metadata-python).\n",
      "    \n",
      "    Args:\n",
      "        bucket_or_name (Union[                 :class:`~google.cloud.storage.bucket.Bucket`,                  str,             ]):\n",
      "            The bucket resource to pass or name to create.\n",
      "    \n",
      "        timeout (Optional[Union[float, Tuple[float, float]]]):\n",
      "            The amount of time, in seconds, to wait for the server response.\n",
      "    \n",
      "            Can also be passed as a tuple (connect_timeout, read_timeout).\n",
      "            See :meth:`requests.Session.request` documentation for details.\n",
      "    \n",
      "        if_metageneration_match (Optional[long]):\n",
      "            Make the operation conditional on whether the\n",
      "            blob's current metageneration matches the given value.\n",
      "    \n",
      "        if_metageneration_not_match (Optional[long]):\n",
      "            Make the operation conditional on whether the blob's\n",
      "            current metageneration does not match the given value.\n",
      "    \n",
      "        retry (Optional[Union[google.api_core.retry.Retry, google.cloud.storage.retry.ConditionalRetryPolicy]]):\n",
      "            How to retry the RPC. A None value will disable retries.\n",
      "            A google.api_core.retry.Retry value will enable retries, and the object will\n",
      "            define retriable response codes and errors and configure backoff and timeout options.\n",
      "    \n",
      "            A google.cloud.storage.retry.ConditionalRetryPolicy value wraps a Retry object and\n",
      "            activates it only if certain conditions are met. This class exists to provide safe defaults\n",
      "            for RPC calls that are not technically safe to retry normally (due to potential data\n",
      "            duplication or other side-effects) but become safe to retry if a condition such as\n",
      "            if_metageneration_match is set.\n",
      "    \n",
      "            See the retry.py source code and docstrings in this package (google.cloud.storage.retry) for\n",
      "            information on retry types and how to configure them.\n",
      "    \n",
      "    Returns:\n",
      "        google.cloud.storage.bucket.Bucket\n",
      "            The bucket matching the name provided.\n",
      "    \n",
      "    Raises:\n",
      "        google.cloud.exceptions.NotFound\n",
      "            If the bucket is not found.\n",
      "\n"
     ]
    }
   ],
   "source": [
    "help(gsclient.get_bucket)"
   ]
  },
  {
   "cell_type": "code",
   "execution_count": 26,
   "metadata": {},
   "outputs": [
    {
     "data": {
      "text/plain": [
       "<Bucket: airetail_mld>"
      ]
     },
     "execution_count": 26,
     "metadata": {},
     "output_type": "execute_result"
    }
   ],
   "source": [
    "gsclient.get_bucket('airetail_mld')"
   ]
  },
  {
   "cell_type": "code",
   "execution_count": 29,
   "metadata": {},
   "outputs": [
    {
     "data": {
      "text/plain": [
       "<google.api_core.page_iterator.HTTPIterator at 0x7fb9c9048340>"
      ]
     },
     "execution_count": 29,
     "metadata": {},
     "output_type": "execute_result"
    }
   ],
   "source": [
    "gsclient.list_blobs('airetail_mld')"
   ]
  },
  {
   "cell_type": "code",
   "execution_count": 30,
   "metadata": {},
   "outputs": [
    {
     "data": {
      "text/plain": [
       "[<Blob: airetail_mld, retail_db/.DS_Store, 1681601265766742>,\n",
       " <Blob: airetail_mld, retail_db/categories/part-00000, 1681601279060465>,\n",
       " <Blob: airetail_mld, retail_db/create_db_tables_pg.sql, 1681601266264960>,\n",
       " <Blob: airetail_mld, retail_db/customers/part-00000, 1681601272322068>,\n",
       " <Blob: airetail_mld, retail_db/departments/part-00000, 1681601273676347>,\n",
       " <Blob: airetail_mld, retail_db/load_db_tables_pg.sql, 1681601271422158>,\n",
       " <Blob: airetail_mld, retail_db/order_items/part-00000, 1681601276722564>,\n",
       " <Blob: airetail_mld, retail_db/orders/part-00000, 1681601278425108>,\n",
       " <Blob: airetail_mld, retail_db/products/part-00000, 1681601273129154>,\n",
       " <Blob: airetail_mld, retail_db/schemas.json, 1681601266763271>]"
      ]
     },
     "execution_count": 30,
     "metadata": {},
     "output_type": "execute_result"
    }
   ],
   "source": [
    "list(gsclient.list_blobs('airetail_mld'))"
   ]
  },
  {
   "cell_type": "code",
   "execution_count": 35,
   "metadata": {},
   "outputs": [],
   "source": [
    "blob = list(gsclient.list_blobs('airetail_mld'))[1]"
   ]
  },
  {
   "cell_type": "code",
   "execution_count": 36,
   "metadata": {},
   "outputs": [
    {
     "data": {
      "text/plain": [
       "google.cloud.storage.blob.Blob"
      ]
     },
     "execution_count": 36,
     "metadata": {},
     "output_type": "execute_result"
    }
   ],
   "source": [
    "type(blob)"
   ]
  },
  {
   "cell_type": "code",
   "execution_count": 44,
   "metadata": {},
   "outputs": [],
   "source": [
    "bucket = gsclient.get_bucket('airetail_mld')"
   ]
  },
  {
   "cell_type": "code",
   "execution_count": 45,
   "metadata": {},
   "outputs": [
    {
     "name": "stdout",
     "output_type": "stream",
     "text": [
      "\u001b[0;31mSignature:\u001b[0m\n",
      "\u001b[0mbucket\u001b[0m\u001b[0;34m.\u001b[0m\u001b[0mblob\u001b[0m\u001b[0;34m(\u001b[0m\u001b[0;34m\u001b[0m\n",
      "\u001b[0;34m\u001b[0m    \u001b[0mblob_name\u001b[0m\u001b[0;34m,\u001b[0m\u001b[0;34m\u001b[0m\n",
      "\u001b[0;34m\u001b[0m    \u001b[0mchunk_size\u001b[0m\u001b[0;34m=\u001b[0m\u001b[0;32mNone\u001b[0m\u001b[0;34m,\u001b[0m\u001b[0;34m\u001b[0m\n",
      "\u001b[0;34m\u001b[0m    \u001b[0mencryption_key\u001b[0m\u001b[0;34m=\u001b[0m\u001b[0;32mNone\u001b[0m\u001b[0;34m,\u001b[0m\u001b[0;34m\u001b[0m\n",
      "\u001b[0;34m\u001b[0m    \u001b[0mkms_key_name\u001b[0m\u001b[0;34m=\u001b[0m\u001b[0;32mNone\u001b[0m\u001b[0;34m,\u001b[0m\u001b[0;34m\u001b[0m\n",
      "\u001b[0;34m\u001b[0m    \u001b[0mgeneration\u001b[0m\u001b[0;34m=\u001b[0m\u001b[0;32mNone\u001b[0m\u001b[0;34m,\u001b[0m\u001b[0;34m\u001b[0m\n",
      "\u001b[0;34m\u001b[0m\u001b[0;34m)\u001b[0m\u001b[0;34m\u001b[0m\u001b[0;34m\u001b[0m\u001b[0m\n",
      "\u001b[0;31mDocstring:\u001b[0m\n",
      "Factory constructor for blob object.\n",
      "\n",
      ".. note::\n",
      "  This will not make an HTTP request; it simply instantiates\n",
      "  a blob object owned by this bucket.\n",
      "\n",
      ":type blob_name: str\n",
      ":param blob_name: The name of the blob to be instantiated.\n",
      "\n",
      ":type chunk_size: int\n",
      ":param chunk_size: The size of a chunk of data whenever iterating\n",
      "                   (in bytes). This must be a multiple of 256 KB per\n",
      "                   the API specification.\n",
      "\n",
      ":type encryption_key: bytes\n",
      ":param encryption_key:\n",
      "    (Optional) 32 byte encryption key for customer-supplied encryption.\n",
      "\n",
      ":type kms_key_name: str\n",
      ":param kms_key_name:\n",
      "    (Optional) Resource name of KMS key used to encrypt blob's content.\n",
      "\n",
      ":type generation: long\n",
      ":param generation: (Optional) If present, selects a specific revision of\n",
      "                   this object.\n",
      "\n",
      ":rtype: :class:`google.cloud.storage.blob.Blob`\n",
      ":returns: The blob object created.\n",
      "\u001b[0;31mFile:\u001b[0m      ~/Desktop/data-engineering-on-gcp/.conda/lib/python3.9/site-packages/google/cloud/storage/bucket.py\n",
      "\u001b[0;31mType:\u001b[0m      method"
     ]
    }
   ],
   "source": [
    "bucket.blob?"
   ]
  },
  {
   "attachments": {},
   "cell_type": "markdown",
   "metadata": {},
   "source": [
    "Looks for the part-0000 blob file but at the moment it doesn't exist"
   ]
  },
  {
   "cell_type": "code",
   "execution_count": 46,
   "metadata": {},
   "outputs": [],
   "source": [
    "blob = bucket.blob('pythondemo/retail_db/orders/part-00000')"
   ]
  },
  {
   "cell_type": "code",
   "execution_count": 48,
   "metadata": {},
   "outputs": [
    {
     "name": "stdout",
     "output_type": "stream",
     "text": [
      "CommandException: One or more URLs matched no objects.\n"
     ]
    }
   ],
   "source": [
    "!gsutil ls gs://airetail_mld/pythondemo"
   ]
  },
  {
   "attachments": {},
   "cell_type": "markdown",
   "metadata": {},
   "source": [
    "Upload the file to the path previously specified"
   ]
  },
  {
   "cell_type": "code",
   "execution_count": null,
   "metadata": {},
   "outputs": [],
   "source": [
    "blob.upload_from_filename?"
   ]
  },
  {
   "cell_type": "code",
   "execution_count": 49,
   "metadata": {},
   "outputs": [],
   "source": [
    "blob.upload_from_filename('../../data/retail_db/orders/part-00000')"
   ]
  },
  {
   "cell_type": "code",
   "execution_count": 50,
   "metadata": {},
   "outputs": [
    {
     "name": "stdout",
     "output_type": "stream",
     "text": [
      "gs://airetail_mld/pythondemo/:\n",
      "\n",
      "gs://airetail_mld/pythondemo/retail_db/:\n",
      "\n",
      "gs://airetail_mld/pythondemo/retail_db/orders/:\n",
      "gs://airetail_mld/pythondemo/retail_db/orders/part-00000\n"
     ]
    }
   ],
   "source": [
    "!gsutil ls -r gs://airetail_mld/pythondemo"
   ]
  },
  {
   "attachments": {},
   "cell_type": "markdown",
   "metadata": {},
   "source": [
    "Finally, download the same file but using the client"
   ]
  },
  {
   "cell_type": "code",
   "execution_count": 57,
   "metadata": {},
   "outputs": [
    {
     "name": "stdout",
     "output_type": "stream",
     "text": [
      "Help on method download_blob_to_file in module google.cloud.storage.client:\n",
      "\n",
      "download_blob_to_file(blob_or_uri, file_obj, start=None, end=None, raw_download=False, if_etag_match=None, if_etag_not_match=None, if_generation_match=None, if_generation_not_match=None, if_metageneration_match=None, if_metageneration_not_match=None, timeout=60, checksum='md5', retry=<google.api_core.retry.Retry object at 0x7fb9c8b96ee0>) method of google.cloud.storage.client.Client instance\n",
      "    Download the contents of a blob object or blob URI into a file-like object.\n",
      "    \n",
      "    See https://cloud.google.com/storage/docs/downloading-objects\n",
      "    \n",
      "    Args:\n",
      "        blob_or_uri (Union[             :class:`~google.cloud.storage.blob.Blob`,              str,             ]):\n",
      "            The blob resource to pass or URI to download.\n",
      "    \n",
      "        file_obj (file):\n",
      "            A file handle to which to write the blob's data.\n",
      "    \n",
      "        start (int):\n",
      "            (Optional) The first byte in a range to be downloaded.\n",
      "    \n",
      "        end (int):\n",
      "            (Optional) The last byte in a range to be downloaded.\n",
      "    \n",
      "        raw_download (bool):\n",
      "            (Optional) If true, download the object without any expansion.\n",
      "    \n",
      "        if_etag_match (Union[str, Set[str]]):\n",
      "            (Optional) See :ref:`using-if-etag-match`\n",
      "    \n",
      "        if_etag_not_match (Union[str, Set[str]]):\n",
      "            (Optional) See :ref:`using-if-etag-not-match`\n",
      "    \n",
      "        if_generation_match (long):\n",
      "            (Optional) See :ref:`using-if-generation-match`\n",
      "    \n",
      "        if_generation_not_match (long):\n",
      "            (Optional) See :ref:`using-if-generation-not-match`\n",
      "    \n",
      "        if_metageneration_match (long):\n",
      "            (Optional) See :ref:`using-if-metageneration-match`\n",
      "    \n",
      "        if_metageneration_not_match (long):\n",
      "            (Optional) See :ref:`using-if-metageneration-not-match`\n",
      "    \n",
      "        timeout ([Union[float, Tuple[float, float]]]):\n",
      "            (Optional) The amount of time, in seconds, to wait\n",
      "            for the server response.  See: :ref:`configuring_timeouts`\n",
      "    \n",
      "        checksum (str):\n",
      "            (Optional) The type of checksum to compute to verify the integrity\n",
      "            of the object. The response headers must contain a checksum of the\n",
      "            requested type. If the headers lack an appropriate checksum (for\n",
      "            instance in the case of transcoded or ranged downloads where the\n",
      "            remote service does not know the correct checksum, including\n",
      "            downloads where chunk_size is set) an INFO-level log will be\n",
      "            emitted. Supported values are \"md5\", \"crc32c\" and None. The default\n",
      "            is \"md5\".\n",
      "        retry (google.api_core.retry.Retry or google.cloud.storage.retry.ConditionalRetryPolicy)\n",
      "            (Optional) How to retry the RPC. A None value will disable\n",
      "            retries. A google.api_core.retry.Retry value will enable retries,\n",
      "            and the object will define retriable response codes and errors and\n",
      "            configure backoff and timeout options.\n",
      "    \n",
      "            A google.cloud.storage.retry.ConditionalRetryPolicy value wraps a\n",
      "            Retry object and activates it only if certain conditions are met.\n",
      "            This class exists to provide safe defaults for RPC calls that are\n",
      "            not technically safe to retry normally (due to potential data\n",
      "            duplication or other side-effects) but become safe to retry if a\n",
      "            condition such as if_metageneration_match is set.\n",
      "    \n",
      "            See the retry.py source code and docstrings in this package\n",
      "            (google.cloud.storage.retry) for information on retry types and how\n",
      "            to configure them.\n",
      "    \n",
      "            Media operations (downloads and uploads) do not support non-default\n",
      "            predicates in a Retry object. The default will always be used. Other\n",
      "            configuration changes for Retry objects such as delays and deadlines\n",
      "            are respected.\n",
      "\n"
     ]
    }
   ],
   "source": [
    "help(gsclient.download_blob_to_file)"
   ]
  },
  {
   "cell_type": "code",
   "execution_count": 52,
   "metadata": {},
   "outputs": [],
   "source": [
    "orders_csv = open('orders.csv', 'wb')       #blobs are bytestream so it requires the wb\n",
    "gsclient.download_blob_to_file(\n",
    "    'gs://airetail_mld/pythondemo/retail_db/orders/part-00000',\n",
    "    orders_csv\n",
    ")\n",
    "orders_csv.close()"
   ]
  }
 ],
 "metadata": {
  "hide_input": false,
  "kernelspec": {
   "display_name": "Python 3 (ipykernel)",
   "language": "python",
   "name": "python3"
  },
  "language_info": {
   "codemirror_mode": {
    "name": "ipython",
    "version": 3
   },
   "file_extension": ".py",
   "mimetype": "text/x-python",
   "name": "python",
   "nbconvert_exporter": "python",
   "pygments_lexer": "ipython3",
   "version": "3.9.16"
  },
  "toc": {
   "base_numbering": 1,
   "nav_menu": {},
   "number_sections": true,
   "sideBar": true,
   "skip_h1_title": false,
   "title_cell": "Table of Contents",
   "title_sidebar": "Contents",
   "toc_cell": false,
   "toc_position": {},
   "toc_section_display": true,
   "toc_window_display": false
  },
  "vscode": {
   "interpreter": {
    "hash": "4a9d607f6995d470a72ac62c14cbba774ae3a8ede2bb7bb3a284130b245adccf"
   }
  }
 },
 "nbformat": 4,
 "nbformat_minor": 2
}
